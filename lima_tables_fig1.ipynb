{
 "cells": [
  {
   "cell_type": "markdown",
   "metadata": {},
   "source": [
    "## Tables and Figures Rey (2016)\n",
    "\n",
    "**Rey, S.J. (2016) “Space-time patterns of rank concordance: Local indicators of mobility association with applications to spatial income inequality dynamics.” *Annals of the Association of American Geographers.* DOI [10.1080/24694452.2016.1151336](http://dx.doi.org/10.1080/24694452.2016.1151336)**\n",
    "\n",
    "This notebook reproduces the following\n",
    "\n",
    "* Figures 1,2,4\n",
    "* Tables 1-5\n",
    "\n",
    "Note that the values and figures produced here were then incorporated into the main LaTeX file for submission. In some cases the column/row labels were editted prior to production. All numerical results, however, were as produced by this script.\n"
   ]
  },
  {
   "cell_type": "code",
   "execution_count": 1,
   "metadata": {
    "collapsed": true
   },
   "outputs": [],
   "source": [
    "import pandas as pd\n",
    "import pysal as ps\n",
    "import numpy as np"
   ]
  },
  {
   "cell_type": "markdown",
   "metadata": {},
   "source": [
    "### Figure 1"
   ]
  },
  {
   "cell_type": "code",
   "execution_count": 2,
   "metadata": {
    "collapsed": false
   },
   "outputs": [
    {
     "data": {
      "text/html": [
       "<div>\n",
       "<table border=\"1\" class=\"dataframe\">\n",
       "  <thead>\n",
       "    <tr style=\"text-align: right;\">\n",
       "      <th></th>\n",
       "      <th>0</th>\n",
       "      <th>1</th>\n",
       "      <th>2</th>\n",
       "      <th>3</th>\n",
       "    </tr>\n",
       "  </thead>\n",
       "  <tbody>\n",
       "    <tr>\n",
       "      <th>0</th>\n",
       "      <td>1</td>\n",
       "      <td>2</td>\n",
       "      <td>5</td>\n",
       "      <td>6</td>\n",
       "    </tr>\n",
       "    <tr>\n",
       "      <th>1</th>\n",
       "      <td>3</td>\n",
       "      <td>4</td>\n",
       "      <td>7</td>\n",
       "      <td>8</td>\n",
       "    </tr>\n",
       "    <tr>\n",
       "      <th>2</th>\n",
       "      <td>9</td>\n",
       "      <td>10</td>\n",
       "      <td>13</td>\n",
       "      <td>14</td>\n",
       "    </tr>\n",
       "    <tr>\n",
       "      <th>3</th>\n",
       "      <td>11</td>\n",
       "      <td>12</td>\n",
       "      <td>15</td>\n",
       "      <td>16</td>\n",
       "    </tr>\n",
       "  </tbody>\n",
       "</table>\n",
       "</div>"
      ],
      "text/plain": [
       "    0   1   2   3\n",
       "0   1   2   5   6\n",
       "1   3   4   7   8\n",
       "2   9  10  13  14\n",
       "3  11  12  15  16"
      ]
     },
     "execution_count": 2,
     "metadata": {},
     "output_type": "execute_result"
    }
   ],
   "source": [
    "t0= [[1,2,5,6], [3,4,7,8], [9,10,13,14], [11,12,15,16]]\n",
    "df = pd.DataFrame(t0)\n",
    "df"
   ]
  },
  {
   "cell_type": "code",
   "execution_count": 3,
   "metadata": {
    "collapsed": false
   },
   "outputs": [
    {
     "data": {
      "text/html": [
       "<div>\n",
       "<table border=\"1\" class=\"dataframe\">\n",
       "  <thead>\n",
       "    <tr style=\"text-align: right;\">\n",
       "      <th></th>\n",
       "      <th>0</th>\n",
       "      <th>1</th>\n",
       "      <th>2</th>\n",
       "      <th>3</th>\n",
       "    </tr>\n",
       "  </thead>\n",
       "  <tbody>\n",
       "    <tr>\n",
       "      <th>0</th>\n",
       "      <td>0</td>\n",
       "      <td>0</td>\n",
       "      <td>1</td>\n",
       "      <td>1</td>\n",
       "    </tr>\n",
       "    <tr>\n",
       "      <th>1</th>\n",
       "      <td>0</td>\n",
       "      <td>0</td>\n",
       "      <td>1</td>\n",
       "      <td>1</td>\n",
       "    </tr>\n",
       "    <tr>\n",
       "      <th>2</th>\n",
       "      <td>2</td>\n",
       "      <td>2</td>\n",
       "      <td>3</td>\n",
       "      <td>3</td>\n",
       "    </tr>\n",
       "    <tr>\n",
       "      <th>3</th>\n",
       "      <td>2</td>\n",
       "      <td>2</td>\n",
       "      <td>3</td>\n",
       "      <td>3</td>\n",
       "    </tr>\n",
       "  </tbody>\n",
       "</table>\n",
       "</div>"
      ],
      "text/plain": [
       "   0  1  2  3\n",
       "0  0  0  1  1\n",
       "1  0  0  1  1\n",
       "2  2  2  3  3\n",
       "3  2  2  3  3"
      ]
     },
     "execution_count": 3,
     "metadata": {},
     "output_type": "execute_result"
    }
   ],
   "source": [
    "regimes = [[0,0,1,1], [0,0,1,1], [2,2,3,3], [2,2,3,3]]\n",
    "df = pd.DataFrame(regimes)\n",
    "df"
   ]
  },
  {
   "cell_type": "code",
   "execution_count": 4,
   "metadata": {
    "collapsed": false
   },
   "outputs": [
    {
     "data": {
      "text/html": [
       "<div>\n",
       "<table border=\"1\" class=\"dataframe\">\n",
       "  <thead>\n",
       "    <tr style=\"text-align: right;\">\n",
       "      <th></th>\n",
       "      <th>0</th>\n",
       "      <th>1</th>\n",
       "      <th>2</th>\n",
       "      <th>3</th>\n",
       "    </tr>\n",
       "  </thead>\n",
       "  <tbody>\n",
       "    <tr>\n",
       "      <th>0</th>\n",
       "      <td>1</td>\n",
       "      <td>2</td>\n",
       "      <td>5</td>\n",
       "      <td>6</td>\n",
       "    </tr>\n",
       "    <tr>\n",
       "      <th>1</th>\n",
       "      <td>3</td>\n",
       "      <td>4</td>\n",
       "      <td>7</td>\n",
       "      <td>8</td>\n",
       "    </tr>\n",
       "    <tr>\n",
       "      <th>2</th>\n",
       "      <td>9</td>\n",
       "      <td>10</td>\n",
       "      <td>16</td>\n",
       "      <td>15</td>\n",
       "    </tr>\n",
       "    <tr>\n",
       "      <th>3</th>\n",
       "      <td>11</td>\n",
       "      <td>12</td>\n",
       "      <td>14</td>\n",
       "      <td>13</td>\n",
       "    </tr>\n",
       "  </tbody>\n",
       "</table>\n",
       "</div>"
      ],
      "text/plain": [
       "    0   1   2   3\n",
       "0   1   2   5   6\n",
       "1   3   4   7   8\n",
       "2   9  10  16  15\n",
       "3  11  12  14  13"
      ]
     },
     "execution_count": 4,
     "metadata": {},
     "output_type": "execute_result"
    }
   ],
   "source": [
    "t1= [[1,2,5,6], [3,4,7,8], [9,10,16,15], [11,12,14,13]]\n",
    "df = pd.DataFrame(t1)\n",
    "df"
   ]
  },
  {
   "cell_type": "code",
   "execution_count": 5,
   "metadata": {
    "collapsed": true
   },
   "outputs": [],
   "source": [
    "x = np.array(t0).flatten()\n",
    "y = np.array(t1).flatten()\n",
    "w = ps.block_weights(np.array(regimes).flatten())"
   ]
  },
  {
   "cell_type": "code",
   "execution_count": 6,
   "metadata": {
    "collapsed": false
   },
   "outputs": [
    {
     "data": {
      "text/plain": [
       "0.90000000000000002"
      ]
     },
     "execution_count": 6,
     "metadata": {},
     "output_type": "execute_result"
    }
   ],
   "source": [
    "tau = ps.Tau(x,y)\n",
    "tau.tau"
   ]
  },
  {
   "cell_type": "code",
   "execution_count": 7,
   "metadata": {
    "collapsed": false
   },
   "outputs": [
    {
     "data": {
      "text/plain": [
       "114.0"
      ]
     },
     "execution_count": 7,
     "metadata": {},
     "output_type": "execute_result"
    }
   ],
   "source": [
    "tau.concordant"
   ]
  },
  {
   "cell_type": "code",
   "execution_count": 8,
   "metadata": {
    "collapsed": false
   },
   "outputs": [
    {
     "data": {
      "text/plain": [
       "120.0"
      ]
     },
     "execution_count": 8,
     "metadata": {},
     "output_type": "execute_result"
    }
   ],
   "source": [
    "16 * (15)/2.\n"
   ]
  },
  {
   "cell_type": "code",
   "execution_count": 9,
   "metadata": {
    "collapsed": false
   },
   "outputs": [
    {
     "data": {
      "text/plain": [
       "6"
      ]
     },
     "execution_count": 9,
     "metadata": {},
     "output_type": "execute_result"
    }
   ],
   "source": [
    "4*3 / 2"
   ]
  },
  {
   "cell_type": "code",
   "execution_count": 10,
   "metadata": {
    "collapsed": false
   },
   "outputs": [
    {
     "data": {
      "text/plain": [
       "0.9"
      ]
     },
     "execution_count": 10,
     "metadata": {},
     "output_type": "execute_result"
    }
   ],
   "source": [
    "108./120  # (c-d)/ (n*(n-1)/2)"
   ]
  },
  {
   "cell_type": "code",
   "execution_count": 11,
   "metadata": {
    "collapsed": false
   },
   "outputs": [
    {
     "data": {
      "text/plain": [
       "(18, 6, 48.0, 0.50000000000000011, 1.1595239720293317e-06, 0.001)"
      ]
     },
     "execution_count": 11,
     "metadata": {},
     "output_type": "execute_result"
    }
   ],
   "source": [
    "np.random.seed(123456)\n",
    "taus = ps.SpatialTau(x,y,w, permutations=999)\n",
    "taus.concordant_spatial, taus.discordant_spatial, w.s0, taus.tau_spatial, taus.tau_p, taus.tau_spatial_psim"
   ]
  },
  {
   "cell_type": "markdown",
   "metadata": {},
   "source": [
    "### Figure 2"
   ]
  },
  {
   "cell_type": "code",
   "execution_count": 12,
   "metadata": {
    "collapsed": false
   },
   "outputs": [
    {
     "data": {
      "text/html": [
       "<div>\n",
       "<table border=\"1\" class=\"dataframe\">\n",
       "  <thead>\n",
       "    <tr style=\"text-align: right;\">\n",
       "      <th></th>\n",
       "      <th>0</th>\n",
       "      <th>1</th>\n",
       "      <th>2</th>\n",
       "      <th>3</th>\n",
       "    </tr>\n",
       "  </thead>\n",
       "  <tbody>\n",
       "    <tr>\n",
       "      <th>0</th>\n",
       "      <td>5</td>\n",
       "      <td>6</td>\n",
       "      <td>1</td>\n",
       "      <td>2</td>\n",
       "    </tr>\n",
       "    <tr>\n",
       "      <th>1</th>\n",
       "      <td>7</td>\n",
       "      <td>8</td>\n",
       "      <td>3</td>\n",
       "      <td>4</td>\n",
       "    </tr>\n",
       "    <tr>\n",
       "      <th>2</th>\n",
       "      <td>13</td>\n",
       "      <td>14</td>\n",
       "      <td>9</td>\n",
       "      <td>10</td>\n",
       "    </tr>\n",
       "    <tr>\n",
       "      <th>3</th>\n",
       "      <td>15</td>\n",
       "      <td>16</td>\n",
       "      <td>11</td>\n",
       "      <td>12</td>\n",
       "    </tr>\n",
       "  </tbody>\n",
       "</table>\n",
       "</div>"
      ],
      "text/plain": [
       "    0   1   2   3\n",
       "0   5   6   1   2\n",
       "1   7   8   3   4\n",
       "2  13  14   9  10\n",
       "3  15  16  11  12"
      ]
     },
     "execution_count": 12,
     "metadata": {},
     "output_type": "execute_result"
    }
   ],
   "source": [
    "t1= [[5,6, 1,2], [7,8, 3,4], [13,14, 9,10], [15,16, 11,12]]\n",
    "df = pd.DataFrame(t1)\n",
    "df"
   ]
  },
  {
   "cell_type": "code",
   "execution_count": 13,
   "metadata": {
    "collapsed": true
   },
   "outputs": [],
   "source": [
    "y = np.array(t1).flatten()"
   ]
  },
  {
   "cell_type": "code",
   "execution_count": 14,
   "metadata": {
    "collapsed": false
   },
   "outputs": [
    {
     "data": {
      "text/plain": [
       "(0.46666666666666667,\n",
       " 24,\n",
       " 0,\n",
       " 48.0,\n",
       " 1.0000000000000002,\n",
       " 0.01169351220671508,\n",
       " 0.0030000000000000001)"
      ]
     },
     "execution_count": 14,
     "metadata": {},
     "output_type": "execute_result"
    }
   ],
   "source": [
    "taus = ps.SpatialTau(x,y,w,permutations=999)\n",
    "taus.tau, taus.concordant_spatial, taus.discordant_spatial, w.s0, taus.tau_spatial, taus.tau_p, taus.tau_spatial_psim"
   ]
  },
  {
   "cell_type": "code",
   "execution_count": 15,
   "metadata": {
    "collapsed": false
   },
   "outputs": [
    {
     "name": "stdout",
     "output_type": "stream",
     "text": [
      "Populating the interactive namespace from numpy and matplotlib\n"
     ]
    },
    {
     "name": "stderr",
     "output_type": "stream",
     "text": [
      "/opt/conda/envs/python2/lib/python2.7/site-packages/matplotlib/font_manager.py:273: UserWarning: Matplotlib is building the font cache using fc-list. This may take a moment.\n",
      "  warnings.warn('Matplotlib is building the font cache using fc-list. This may take a moment.')\n"
     ]
    }
   ],
   "source": [
    "\n",
    "%pylab inline\n",
    "from pylab import rcParams\n",
    "rcParams['figure.figsize'] = 11, 8.5"
   ]
  },
  {
   "cell_type": "code",
   "execution_count": 16,
   "metadata": {
    "collapsed": false
   },
   "outputs": [],
   "source": [
    "f = ps.open(ps.examples.get_path(\"mexico.csv\"))\n",
    "vnames = [\"pcgdp%d\"%dec for dec in range(1940, 2010, 10)]\n",
    "y = np.transpose(np.array([f.by_col[v] for v in vnames]))\n",
    "regime = np.array(f.by_col['esquivel99'])\n",
    "w = ps.weights.block_weights(regime)\n",
    "income = y[:]\n",
    "state = np.array(f.by_col(\"State\"))"
   ]
  },
  {
   "cell_type": "markdown",
   "metadata": {},
   "source": [
    "## Spaghetti Plot"
   ]
  },
  {
   "cell_type": "code",
   "execution_count": 17,
   "metadata": {
    "collapsed": false
   },
   "outputs": [],
   "source": [
    "r = y / y.mean(axis=0)\n",
    "order1940 = np.argsort(r[:,0])\n",
    "order2000 = np.argsort(r[:,-1])"
   ]
  },
  {
   "cell_type": "code",
   "execution_count": 18,
   "metadata": {
    "collapsed": false
   },
   "outputs": [
    {
     "data": {
      "text/plain": [
       "array([19, 11, 26,  4, 15, 14, 20, 28, 31,  3, 10, 23, 12, 17, 24, 29, 13,\n",
       "       25,  7, 16, 27, 30,  6,  5, 18,  2,  0, 21,  9,  8, 22,  1])"
      ]
     },
     "execution_count": 18,
     "metadata": {},
     "output_type": "execute_result"
    }
   ],
   "source": [
    "order1940"
   ]
  },
  {
   "cell_type": "code",
   "execution_count": 19,
   "metadata": {
    "collapsed": false
   },
   "outputs": [
    {
     "data": {
      "text/plain": [
       "array([ 4, 19, 31, 17, 28, 11, 15, 29, 12, 26, 24, 10, 20, 23, 14,  9, 30,\n",
       "       16,  7, 13, 27, 25,  2, 21,  0,  6,  1,  5, 22,  3, 18,  8])"
      ]
     },
     "execution_count": 19,
     "metadata": {},
     "output_type": "execute_result"
    }
   ],
   "source": [
    "order2000"
   ]
  },
  {
   "cell_type": "code",
   "execution_count": 20,
   "metadata": {
    "collapsed": false
   },
   "outputs": [
    {
     "data": {
      "text/plain": [
       "array(['Baja California', 'Quintana Roo', 'Distrito Federal', 'Durango',\n",
       "       'Quertaro', 'Aguascalientes', 'Baja California Sur', 'Nuevo Leon',\n",
       "       'Chihuahua', 'Coahuila', 'Yucatan', 'Tamaulipas', 'Morelos',\n",
       "       'Colima', 'Sonora', 'Jalisco', 'Veracruz', 'Sinaloa', 'Nayarit',\n",
       "       'Hidalgo', 'San Luis Potosi', 'Guanajuato', 'Campeche', 'Zacatecas',\n",
       "       'Tlaxcala', 'Puebla', 'Mexico', 'Michoacan', 'Chiapas', 'Tabasco',\n",
       "       'Guerrero', 'Oaxaca'], \n",
       "      dtype='|S19')"
      ]
     },
     "execution_count": 20,
     "metadata": {},
     "output_type": "execute_result"
    }
   ],
   "source": [
    "state[order1940[::-1]]"
   ]
  },
  {
   "cell_type": "code",
   "execution_count": 21,
   "metadata": {
    "collapsed": false
   },
   "outputs": [
    {
     "data": {
      "text/plain": [
       "array(['Distrito Federal', 'Nuevo Leon', 'Campeche', 'Quintana Roo',\n",
       "       'Chihuahua', 'Baja California', 'Coahuila', 'Aguascalientes',\n",
       "       'Quertaro', 'Baja California Sur', 'Sonora', 'Tamaulipas',\n",
       "       'Jalisco', 'Colima', 'Morelos', 'Yucatan', 'Durango', 'Mexico',\n",
       "       'San Luis Potosi', 'Puebla', 'Guanajuato', 'Sinaloa', 'Tabasco',\n",
       "       'Hidalgo', 'Veracruz', 'Michoacan', 'Guerrero', 'Tlaxcala',\n",
       "       'Nayarit', 'Zacatecas', 'Oaxaca', 'Chiapas'], \n",
       "      dtype='|S19')"
      ]
     },
     "execution_count": 21,
     "metadata": {},
     "output_type": "execute_result"
    }
   ],
   "source": [
    "state[order2000[::-1]]"
   ]
  },
  {
   "cell_type": "code",
   "execution_count": 22,
   "metadata": {
    "collapsed": true
   },
   "outputs": [],
   "source": [
    "first_last = np.vstack((state[order1940[::-1]],state[order2000[::-1]]))"
   ]
  },
  {
   "cell_type": "code",
   "execution_count": 23,
   "metadata": {
    "collapsed": false,
    "scrolled": true
   },
   "outputs": [
    {
     "data": {
      "text/plain": [
       "array([['Baja California', 'Distrito Federal'],\n",
       "       ['Quintana Roo', 'Nuevo Leon'],\n",
       "       ['Distrito Federal', 'Campeche'],\n",
       "       ['Durango', 'Quintana Roo'],\n",
       "       ['Quertaro', 'Chihuahua'],\n",
       "       ['Aguascalientes', 'Baja California'],\n",
       "       ['Baja California Sur', 'Coahuila'],\n",
       "       ['Nuevo Leon', 'Aguascalientes'],\n",
       "       ['Chihuahua', 'Quertaro'],\n",
       "       ['Coahuila', 'Baja California Sur'],\n",
       "       ['Yucatan', 'Sonora'],\n",
       "       ['Tamaulipas', 'Tamaulipas'],\n",
       "       ['Morelos', 'Jalisco'],\n",
       "       ['Colima', 'Colima'],\n",
       "       ['Sonora', 'Morelos'],\n",
       "       ['Jalisco', 'Yucatan'],\n",
       "       ['Veracruz', 'Durango'],\n",
       "       ['Sinaloa', 'Mexico'],\n",
       "       ['Nayarit', 'San Luis Potosi'],\n",
       "       ['Hidalgo', 'Puebla'],\n",
       "       ['San Luis Potosi', 'Guanajuato'],\n",
       "       ['Guanajuato', 'Sinaloa'],\n",
       "       ['Campeche', 'Tabasco'],\n",
       "       ['Zacatecas', 'Hidalgo'],\n",
       "       ['Tlaxcala', 'Veracruz'],\n",
       "       ['Puebla', 'Michoacan'],\n",
       "       ['Mexico', 'Guerrero'],\n",
       "       ['Michoacan', 'Tlaxcala'],\n",
       "       ['Chiapas', 'Nayarit'],\n",
       "       ['Tabasco', 'Zacatecas'],\n",
       "       ['Guerrero', 'Oaxaca'],\n",
       "       ['Oaxaca', 'Chiapas']], \n",
       "      dtype='|S19')"
      ]
     },
     "execution_count": 23,
     "metadata": {},
     "output_type": "execute_result"
    }
   ],
   "source": [
    "first_last.T"
   ]
  },
  {
   "cell_type": "code",
   "execution_count": 24,
   "metadata": {
    "collapsed": false
   },
   "outputs": [
    {
     "data": {
      "text/plain": [
       "(2, 32)"
      ]
     },
     "execution_count": 24,
     "metadata": {},
     "output_type": "execute_result"
    }
   ],
   "source": [
    "first_last.shape"
   ]
  },
  {
   "cell_type": "code",
   "execution_count": 25,
   "metadata": {
    "collapsed": true
   },
   "outputs": [],
   "source": [
    "t = np.arange(1940,2010,10)"
   ]
  },
  {
   "cell_type": "code",
   "execution_count": 26,
   "metadata": {
    "collapsed": false
   },
   "outputs": [
    {
     "data": {
      "text/plain": [
       "array(['Chiapas', 'Oaxaca', 'Zacatecas', 'Nayarit', 'Tlaxcala', 'Guerrero',\n",
       "       'Michoacan', 'Veracruz', 'Hidalgo', 'Tabasco', 'Sinaloa',\n",
       "       'Guanajuato', 'Puebla', 'San Luis Potosi', 'Mexico', 'Durango',\n",
       "       'Yucatan', 'Morelos', 'Colima', 'Jalisco', 'Tamaulipas', 'Sonora',\n",
       "       'Baja California Sur', 'Quertaro', 'Aguascalientes', 'Coahuila',\n",
       "       'Baja California', 'Chihuahua', 'Quintana Roo', 'Campeche',\n",
       "       'Nuevo Leon', 'Distrito Federal'], \n",
       "      dtype='|S19')"
      ]
     },
     "execution_count": 26,
     "metadata": {},
     "output_type": "execute_result"
    }
   ],
   "source": [
    "state[order2000]"
   ]
  },
  {
   "cell_type": "code",
   "execution_count": 27,
   "metadata": {
    "collapsed": false
   },
   "outputs": [
    {
     "data": {
      "image/png": "[encoded data removed]",
      "text/plain": [
       "<matplotlib.figure.Figure at 0x7f1f3d248cd0>"
      ]
     },
     "metadata": {},
     "output_type": "display_data"
    }
   ],
   "source": [
    "plot(t,r.T)\n",
    "ylabel(r\"$y_{i,t}/\\bar{y}_t$\", fontsize=16)\n",
    "savefig(\"spaghetti.png\", dpi=600)"
   ]
  },
  {
   "cell_type": "markdown",
   "metadata": {},
   "source": [
    "### Figure 3"
   ]
  },
  {
   "cell_type": "code",
   "execution_count": 28,
   "metadata": {
    "collapsed": false
   },
   "outputs": [
    {
     "data": {
      "image/png": "[encoded data removed]",
      "text/plain": [
       "<matplotlib.figure.Figure at 0x7f1f3bd86d90>"
      ]
     },
     "metadata": {},
     "output_type": "display_data"
    }
   ],
   "source": [
    "from pylab import rcParams\n",
    "rcParams['figure.figsize'] = 14, 8.5\n",
    "plot(t,r.T)\n",
    "names1940 = state[order1940[::-1]]\n",
    "names2000 = state[order2000[::-1]]\n",
    "for i in range(32):\n",
    "    text(1932,3.0-(i*.10), names1940[i])\n",
    "    text(2001,3.0-(i*.10), names2000[i])\n",
    "\n",
    "ylabel(r\"$y_{i,t}/\\bar{y}_t$\")\n",
    "xlabel('Decade')\n",
    "savefig(\"spaghetti.png\", dpi=600)"
   ]
  },
  {
   "cell_type": "markdown",
   "metadata": {},
   "source": [
    "## Rank changes"
   ]
  },
  {
   "cell_type": "code",
   "execution_count": 29,
   "metadata": {
    "collapsed": false
   },
   "outputs": [],
   "source": [
    "from scipy.stats import rankdata as RANK\n",
    "RK1940 = RANK(r[:,0])\n",
    "RK2000 = RANK(r[:,-1])\n",
    "RKCHG = RK2000 - RK1940\n"
   ]
  },
  {
   "cell_type": "code",
   "execution_count": 30,
   "metadata": {
    "collapsed": false
   },
   "outputs": [
    {
     "data": {
      "text/plain": [
       "array([ -2.,  -5.,  -3.,  20.,  -3.,   4.,   3.,   0.,   2., -13.,   1.,\n",
       "         4.,  -4.,   3.,   9.,   2.,  -2., -10.,   6.,   1.,   6.,  -4.,\n",
       "        -2.,   2.,  -4.,   4.,   7.,   0.,  -3.,  -8.,  -5.,  -6.])"
      ]
     },
     "execution_count": 30,
     "metadata": {},
     "output_type": "execute_result"
    }
   ],
   "source": [
    "RKCHG"
   ]
  },
  {
   "cell_type": "code",
   "execution_count": 31,
   "metadata": {
    "collapsed": false
   },
   "outputs": [
    {
     "data": {
      "text/plain": [
       "'Campeche'"
      ]
     },
     "execution_count": 31,
     "metadata": {},
     "output_type": "execute_result"
    }
   ],
   "source": [
    "state[3]"
   ]
  },
  {
   "cell_type": "code",
   "execution_count": 32,
   "metadata": {
    "collapsed": false
   },
   "outputs": [
    {
     "data": {
      "text/plain": [
       "'Durango'"
      ]
     },
     "execution_count": 32,
     "metadata": {},
     "output_type": "execute_result"
    }
   ],
   "source": [
    "state[9]"
   ]
  },
  {
   "cell_type": "code",
   "execution_count": 33,
   "metadata": {
    "collapsed": true
   },
   "outputs": [],
   "source": [
    "RKORDER = np.argsort(RKCHG)\n"
   ]
  },
  {
   "cell_type": "code",
   "execution_count": 34,
   "metadata": {
    "collapsed": false
   },
   "outputs": [
    {
     "data": {
      "text/plain": [
       "array([ 9, 17, 29, 31,  1, 30, 24, 21, 12,  2,  4, 28, 22, 16,  0, 27,  7,\n",
       "       10, 19, 23,  8, 15,  6, 13, 25, 11,  5, 18, 20, 26, 14,  3])"
      ]
     },
     "execution_count": 34,
     "metadata": {},
     "output_type": "execute_result"
    }
   ],
   "source": [
    "RKORDER"
   ]
  },
  {
   "cell_type": "code",
   "execution_count": 35,
   "metadata": {
    "collapsed": false
   },
   "outputs": [
    {
     "data": {
      "text/plain": [
       "array(['Durango', 'Nayarit', 'Veracruz', 'Zacatecas', 'Baja California',\n",
       "       'Yucatan', 'Sinaloa', 'Quertaro', 'Hidalgo', 'Baja California Sur',\n",
       "       'Chiapas', 'Tlaxcala', 'Quintana Roo', 'Morelos', 'Aguascalientes',\n",
       "       'Tamaulipas', 'Colima', 'Guanajuato', 'Oaxaca', 'San Luis Potosi',\n",
       "       'Distrito Federal', 'Michoacan', 'Coahuila', 'Jalisco', 'Sonora',\n",
       "       'Guerrero', 'Chihuahua', 'Nuevo Leon', 'Puebla', 'Tabasco',\n",
       "       'Mexico', 'Campeche'], \n",
       "      dtype='|S19')"
      ]
     },
     "execution_count": 35,
     "metadata": {},
     "output_type": "execute_result"
    }
   ],
   "source": [
    "state[RKORDER]"
   ]
  },
  {
   "cell_type": "code",
   "execution_count": 36,
   "metadata": {
    "collapsed": false
   },
   "outputs": [
    {
     "data": {
      "text/plain": [
       "array([-13., -10.,  -8.,  -6.,  -5.,  -5.,  -4.,  -4.,  -4.,  -3.,  -3.,\n",
       "        -3.,  -2.,  -2.,  -2.,   0.,   0.,   1.,   1.,   2.,   2.,   2.,\n",
       "         3.,   3.,   4.,   4.,   4.,   6.,   6.,   7.,   9.,  20.])"
      ]
     },
     "execution_count": 36,
     "metadata": {},
     "output_type": "execute_result"
    }
   ],
   "source": [
    "RKCHG[RKORDER]"
   ]
  },
  {
   "cell_type": "markdown",
   "metadata": {
    "collapsed": true
   },
   "source": [
    "## Global Tau and Spatial Autocorrelation"
   ]
  },
  {
   "cell_type": "markdown",
   "metadata": {},
   "source": [
    "### Table 1"
   ]
  },
  {
   "cell_type": "code",
   "execution_count": 37,
   "metadata": {
    "collapsed": false
   },
   "outputs": [
    {
     "name": "stdout",
     "output_type": "stream",
     "text": [
      "   0.397    0.658    0.005\n",
      "   0.492    0.699    0.009\n",
      "   0.651    0.763    0.047\n",
      "   0.714    0.752    0.223\n",
      "   0.683    0.701    0.307\n",
      "   0.810    0.820    0.333\n"
     ]
    }
   ],
   "source": [
    "from pylab import rcParams\n",
    "rcParams['figure.figsize'] = 11, 8.5\n",
    "table = []\n",
    "np.random.seed(123456)\n",
    "res=[ps.SpatialTau(y[:,i],y[:,i+1],w,999) for i in range(6)]\n",
    "for r in res:\n",
    "    ev = r.taus.mean()\n",
    "    row = [r.tau_spatial, ev, r.tau_spatial_psim]\n",
    "    table.append(row)\n",
    "    row =\"%8.3f %8.3f %8.3f\"%(r.tau_spatial, ev, r.tau_spatial_psim)\n",
    "    print row\n",
    "\n",
    "    "
   ]
  },
  {
   "cell_type": "code",
   "execution_count": 38,
   "metadata": {
    "collapsed": true
   },
   "outputs": [],
   "source": [
    "table = np.array(table)\n",
    "mi = [ps.Moran(y[:,i], w) for i in range(7)]"
   ]
  },
  {
   "cell_type": "code",
   "execution_count": 39,
   "metadata": {
    "collapsed": false
   },
   "outputs": [
    {
     "name": "stdout",
     "output_type": "stream",
     "text": [
      "  -0.019   -0.034    0.390\n",
      "   0.035   -0.035    0.230\n",
      "   0.327   -0.026    0.015\n",
      "   0.561   -0.032    0.001\n",
      "   0.258   -0.028    0.026\n",
      "   0.213   -0.035    0.042\n",
      "   0.160   -0.037    0.071\n"
     ]
    }
   ],
   "source": [
    "mitable = []\n",
    "for r in mi:\n",
    "    mitable.append([r.I, r.EI_sim, r.p_sim])\n",
    "    s = \"%8.3f %8.3f %8.3f\"%(r.I, r.EI_sim, r.p_sim)\n",
    "    print s\n",
    "    "
   ]
  },
  {
   "cell_type": "code",
   "execution_count": 40,
   "metadata": {
    "collapsed": false
   },
   "outputs": [
    {
     "name": "stdout",
     "output_type": "stream",
     "text": [
      "[['1940', '   0.397', '   0.658', '   0.005', '  -0.019', '  -0.034', '   0.390'], ['1950', '   0.492', '   0.699', '   0.009', '   0.035', '  -0.035', '   0.230'], ['1960', '   0.651', '   0.763', '   0.047', '   0.327', '  -0.026', '   0.015'], ['1970', '   0.714', '   0.752', '   0.223', '   0.561', '  -0.032', '   0.001'], ['1980', '   0.683', '   0.701', '   0.307', '   0.258', '  -0.028', '   0.026'], ['1990', '   0.810', '   0.820', '   0.333', '   0.213', '  -0.035', '   0.042'], ['2000', '-', '-', '-', '   0.160', '  -0.037', '   0.071']]\n",
      "\\begin{tabular}{|rrrr|rrr|}\n",
      "\\hline\n",
      "Year&$\\tau_w$&$E[\\tau_w]$&p-value&$I$&$E[I]$&p-value\\\\\n",
      "1940&   0.397&   0.658&   0.005&  -0.019&  -0.034&   0.390\\\\\n",
      "1950&   0.492&   0.699&   0.009&   0.035&  -0.035&   0.230\\\\\n",
      "1960&   0.651&   0.763&   0.047&   0.327&  -0.026&   0.015\\\\\n",
      "1970&   0.714&   0.752&   0.223&   0.561&  -0.032&   0.001\\\\\n",
      "1980&   0.683&   0.701&   0.307&   0.258&  -0.028&   0.026\\\\\n",
      "1990&   0.810&   0.820&   0.333&   0.213&  -0.035&   0.042\\\\\n",
      "2000&-&-&-&   0.160&  -0.037&   0.071\n"
     ]
    }
   ],
   "source": [
    "rows = []\n",
    "mitable = np.array(mitable)\n",
    "for i in range(6):\n",
    "    year = str(1940 + 10 * i)        \n",
    "    left = [\"%8.3f\"%v for v in table[i]]\n",
    "    left = [year] + left\n",
    "    right = [ \"%8.3f\"%v for v in mitable[i]]\n",
    "    row = left + right\n",
    "    #print row\n",
    "    rows.append(row)\n",
    "left = [\"2000\", \"-\", \"-\", \"-\",]\n",
    "right = [ \"%8.3f\"%v for v in mitable[i+1]]\n",
    "row = left + right\n",
    "rows.append(row)\n",
    "print rows\n",
    "head = \"Year&$\\\\tau_w$&$E[\\\\tau_w]$&p-value&$I$&$E[I]$&p-value\\\\\\\\\"\n",
    "head = \"\\\\begin{tabular}{|rrrr|rrr|}\\n\\hline\\n\"+head\n",
    "print head\n",
    "body = []\n",
    "for row in rows:\n",
    "    body.append(\"&\".join(row))\n",
    "body = \"\\\\\\\\\\n\".join(body)\n",
    "print body\n",
    "\n",
    "f = open( \"taumi.tex\", 'w')\n",
    "f.write(head)\n",
    "f.write(\"\\n\\hline\\n\")\n",
    "f.write(body)\n",
    "f.write(\"\\\\\\\\\\n\\hline\\n\")\n",
    "f.write(\"\\end{tabular}\")\n",
    "f.close()"
   ]
  },
  {
   "cell_type": "code",
   "execution_count": 41,
   "metadata": {
    "collapsed": false
   },
   "outputs": [
    {
     "data": {
      "text/plain": [
       "-0.037266334855270214"
      ]
     },
     "execution_count": 41,
     "metadata": {},
     "output_type": "execute_result"
    }
   ],
   "source": [
    "r.EI_sim"
   ]
  },
  {
   "cell_type": "code",
   "execution_count": 42,
   "metadata": {
    "collapsed": true
   },
   "outputs": [],
   "source": [
    "def tauA(x, y, w):\n",
    "    n = len(x)\n",
    "    xx = x.reshape(n,1)\n",
    "    yy = y.reshape(n,1)\n",
    "    W = w.full()[0]\n",
    "    C = (xx-xx.T) * (yy-yy.T)\n",
    "    S = -1 * (C<0) + 1 * (C>0)\n",
    "    t = S.sum()*1. / (n*(n-1))\n",
    "    WS = W * S\n",
    "    st = WS.sum()*1./ W.sum()\n",
    "    #locals\n",
    "    si = S.sum(axis=1)\n",
    "    ti = si * 1./ (n-1) # local tau \n",
    "    wsi = WS.sum(axis=1) \n",
    "    sti = wsi*1./ w.cardinalities.values()\n",
    "    \n",
    "    return si,ti,wsi,sti,S,WS,t, st"
   ]
  },
  {
   "cell_type": "markdown",
   "metadata": {},
   "source": [
    "## LISA Tau"
   ]
  },
  {
   "cell_type": "markdown",
   "metadata": {},
   "source": [
    "### Table 2"
   ]
  },
  {
   "cell_type": "code",
   "execution_count": 43,
   "metadata": {
    "collapsed": false
   },
   "outputs": [],
   "source": [
    "t = tauA(y[:,0],y[:,1],w)\n",
    "ti = t[1]"
   ]
  },
  {
   "cell_type": "code",
   "execution_count": 44,
   "metadata": {
    "collapsed": false
   },
   "outputs": [],
   "source": [
    "np.random.seed(12345)\n",
    "lisa_tau = []\n",
    "tau_i = []\n",
    "moran_tau = []\n",
    "for t0 in range(6):\n",
    "    t1 = t0 + 1\n",
    "    tau_i.append(tauA(y[:,t0],y[:,t1],w))\n",
    "    lisa_tau.append(ps.Moran_Local(tau_i[t0][1],w))\n",
    "    moran_tau.append(ps.Moran(tau_i[t0][1],w)) #global I on local taus\n",
    "    \n",
    "    "
   ]
  },
  {
   "cell_type": "code",
   "execution_count": 45,
   "metadata": {
    "collapsed": false
   },
   "outputs": [
    {
     "data": {
      "text/plain": [
       "[<pysal.esda.moran.Moran instance at 0x7f1f3d132290>,\n",
       " <pysal.esda.moran.Moran instance at 0x7f1f3d4c0ea8>,\n",
       " <pysal.esda.moran.Moran instance at 0x7f1f3d416050>,\n",
       " <pysal.esda.moran.Moran instance at 0x7f1f3d4acd88>,\n",
       " <pysal.esda.moran.Moran instance at 0x7f1f3d4ac710>,\n",
       " <pysal.esda.moran.Moran instance at 0x7f1f3be8a7a0>]"
      ]
     },
     "execution_count": 45,
     "metadata": {},
     "output_type": "execute_result"
    }
   ],
   "source": [
    "moran_tau"
   ]
  },
  {
   "cell_type": "code",
   "execution_count": 46,
   "metadata": {
    "collapsed": true
   },
   "outputs": [],
   "source": [
    "I = [ m.I for m in moran_tau]\n",
    "Ipvalue = [m.p_sim for m in moran_tau]"
   ]
  },
  {
   "cell_type": "code",
   "execution_count": 47,
   "metadata": {
    "collapsed": false
   },
   "outputs": [
    {
     "data": {
      "text/plain": [
       "[0.23197424892703863,\n",
       " -0.12576832151300235,\n",
       " 0.028652002256063121,\n",
       " -0.0026569498216047738,\n",
       " 0.082348060568346843,\n",
       " -0.045833333333333247]"
      ]
     },
     "execution_count": 47,
     "metadata": {},
     "output_type": "execute_result"
    }
   ],
   "source": [
    "I"
   ]
  },
  {
   "cell_type": "code",
   "execution_count": 48,
   "metadata": {
    "collapsed": false
   },
   "outputs": [
    {
     "data": {
      "text/plain": [
       "[0.032000000000000001,\n",
       " 0.255,\n",
       " 0.28799999999999998,\n",
       " 0.28799999999999998,\n",
       " 0.13100000000000001,\n",
       " 0.47399999999999998]"
      ]
     },
     "execution_count": 48,
     "metadata": {},
     "output_type": "execute_result"
    }
   ],
   "source": [
    "Ipvalue\n"
   ]
  },
  {
   "cell_type": "code",
   "execution_count": 49,
   "metadata": {
    "collapsed": true
   },
   "outputs": [],
   "source": [
    "t0 = tau_i[0]\n"
   ]
  },
  {
   "cell_type": "code",
   "execution_count": 50,
   "metadata": {
    "collapsed": false
   },
   "outputs": [
    {
     "data": {
      "text/plain": [
       "(array([-1, 29, 25, 23, 29, 23, 21, 13, 31, 17, 23, 29, 21, 23, 25, 23, 17,\n",
       "        21, 23, 23, 17, -5, 29, 19, 21, 15, 29, 19, 23, 13, 19, 19]),\n",
       " array([-0.03225806,  0.93548387,  0.80645161,  0.74193548,  0.93548387,\n",
       "         0.74193548,  0.67741935,  0.41935484,  1.        ,  0.5483871 ,\n",
       "         0.74193548,  0.93548387,  0.67741935,  0.74193548,  0.80645161,\n",
       "         0.74193548,  0.5483871 ,  0.67741935,  0.74193548,  0.74193548,\n",
       "         0.5483871 , -0.16129032,  0.93548387,  0.61290323,  0.67741935,\n",
       "         0.48387097,  0.93548387,  0.61290323,  0.74193548,  0.41935484,\n",
       "         0.61290323,  0.61290323]),\n",
       " array([-0.2       ,  1.        ,  1.        ,  1.        ,  0.33333333,\n",
       "         0.6       ,  0.6       , -0.5       ,  1.        ,  1.        ,\n",
       "         0.2       ,  0.33333333,  0.33333333,  0.5       ,  1.        ,\n",
       "         1.        ,  1.        ,  0.        ,  0.6       , -0.33333333,\n",
       "        -0.33333333, -0.6       ,  1.        ,  0.2       ,  0.        ,\n",
       "         0.2       ,  1.        ,  0.6       ,  0.33333333,  0.5       ,\n",
       "         0.5       , -0.2       ]),\n",
       " array([-0.04      ,  0.2       ,  0.25      ,  0.25      ,  0.11111111,\n",
       "         0.12      ,  0.12      , -0.125     ,  1.        ,  0.2       ,\n",
       "         0.04      ,  0.11111111,  0.11111111,  0.125     ,  1.        ,\n",
       "         0.33333333,  0.33333333,  0.        ,  0.12      , -0.11111111,\n",
       "        -0.11111111, -0.12      ,  0.25      ,  0.04      ,  0.        ,\n",
       "         0.04      ,  0.25      ,  0.12      ,  0.11111111,  0.125     ,\n",
       "         0.125     , -0.04      ]),\n",
       " array([[ 0,  1, -1, ..., -1, -1, -1],\n",
       "        [ 1,  0,  1, ...,  1,  1,  1],\n",
       "        [-1,  1,  0, ...,  1,  1,  1],\n",
       "        ..., \n",
       "        [-1,  1,  1, ...,  0, -1,  1],\n",
       "        [-1,  1,  1, ..., -1,  0,  1],\n",
       "        [-1,  1,  1, ...,  1,  1,  0]]),\n",
       " array([[ 0.  ,  0.  , -0.  , ..., -0.  , -0.  , -0.2 ],\n",
       "        [ 0.  ,  0.  ,  0.  , ...,  0.  ,  0.  ,  0.  ],\n",
       "        [-0.  ,  0.  ,  0.  , ...,  0.  ,  0.  ,  0.  ],\n",
       "        ..., \n",
       "        [-0.  ,  0.  ,  0.  , ...,  0.  , -0.25,  0.  ],\n",
       "        [-0.  ,  0.  ,  0.  , ..., -0.25,  0.  ,  0.  ],\n",
       "        [-0.2 ,  0.  ,  0.  , ...,  0.  ,  0.  ,  0.  ]]),\n",
       " 0.66129032258064513,\n",
       " 0.42708333333333331)"
      ]
     },
     "execution_count": 50,
     "metadata": {},
     "output_type": "execute_result"
    }
   ],
   "source": [
    "t0"
   ]
  },
  {
   "cell_type": "code",
   "execution_count": 51,
   "metadata": {
    "collapsed": false
   },
   "outputs": [],
   "source": [
    "lisa_p = np.array([l.p_sim for l in lisa_tau])\n",
    "tau_is = np.array([t[1] for t in tau_i])"
   ]
  },
  {
   "cell_type": "code",
   "execution_count": 52,
   "metadata": {
    "collapsed": false
   },
   "outputs": [
    {
     "data": {
      "text/plain": [
       "array([[ 0.027,  0.075,  0.464,  0.2  ,  0.406,  0.338],\n",
       "       [ 0.456,  0.063,  0.249,  0.289,  0.253,  0.088],\n",
       "       [ 0.337,  0.481,  0.108,  0.27 ,  0.365,  0.492],\n",
       "       [ 0.328,  0.098,  0.011,  0.016,  0.069,  0.012],\n",
       "       [ 0.12 ,  0.295,  0.063,  0.013,  0.001,  0.207],\n",
       "       [ 0.42 ,  0.11 ,  0.178,  0.184,  0.25 ,  0.013],\n",
       "       [ 0.391,  0.078,  0.148,  0.173,  0.19 ,  0.093],\n",
       "       [ 0.364,  0.197,  0.492,  0.495,  0.428,  0.129],\n",
       "       [ 0.243,  0.001,  0.151,  0.15 ,  0.424,  0.124],\n",
       "       [ 0.004,  0.038,  0.481,  0.131,  0.408,  0.187],\n",
       "       [ 0.003,  0.073,  0.275,  0.291,  0.404,  0.425],\n",
       "       [ 0.104,  0.456,  0.091,  0.242,  0.284,  0.009],\n",
       "       [ 0.263,  0.247,  0.492,  0.49 ,  0.407,  0.176],\n",
       "       [ 0.355,  0.424,  0.397,  0.362,  0.367,  0.128],\n",
       "       [ 0.038,  0.036,  0.001,  0.026,  0.313,  0.001],\n",
       "       [ 0.042,  0.165,  0.018,  0.274,  0.33 ,  0.074],\n",
       "       [ 0.378,  0.399,  0.114,  0.412,  0.47 ,  0.118],\n",
       "       [ 0.397,  0.267,  0.176,  0.368,  0.166,  0.488],\n",
       "       [ 0.438,  0.051,  0.258,  0.304,  0.222,  0.116],\n",
       "       [ 0.041,  0.315,  0.101,  0.187,  0.276,  0.228],\n",
       "       [ 0.396,  0.188,  0.484,  0.411,  0.337,  0.276],\n",
       "       [ 0.021,  0.071,  0.456,  0.303,  0.454,  0.354],\n",
       "       [ 0.469,  0.484,  0.02 ,  0.042,  0.008,  0.074],\n",
       "       [ 0.003,  0.108,  0.323,  0.205,  0.5  ,  0.367],\n",
       "       [ 0.403,  0.362,  0.382,  0.389,  0.435,  0.302],\n",
       "       [ 0.198,  0.131,  0.171,  0.127,  0.235,  0.092],\n",
       "       [ 0.464,  0.401,  0.006,  0.135,  0.078,  0.092],\n",
       "       [ 0.339,  0.031,  0.03 ,  0.18 ,  0.098,  0.11 ],\n",
       "       [ 0.244,  0.439,  0.339,  0.353,  0.36 ,  0.362],\n",
       "       [ 0.068,  0.086,  0.076,  0.013,  0.004,  0.032],\n",
       "       [ 0.189,  0.112,  0.044,  0.013,  0.007,  0.153],\n",
       "       [ 0.003,  0.121,  0.243,  0.309,  0.401,  0.349]])"
      ]
     },
     "execution_count": 52,
     "metadata": {},
     "output_type": "execute_result"
    }
   ],
   "source": [
    "lisa_p.T"
   ]
  },
  {
   "cell_type": "code",
   "execution_count": 53,
   "metadata": {
    "collapsed": false
   },
   "outputs": [
    {
     "data": {
      "text/plain": [
       "array([[-0.03225806,  0.61290323,  0.61290323,  0.80645161,  0.74193548,\n",
       "         0.80645161],\n",
       "       [ 0.93548387,  0.80645161,  1.        ,  0.93548387,  0.87096774,\n",
       "         0.87096774],\n",
       "       [ 0.80645161,  0.87096774,  1.        ,  0.93548387,  0.80645161,\n",
       "         0.74193548],\n",
       "       [ 0.74193548,  0.80645161,  0.74193548,  0.67741935, -0.67741935,\n",
       "         0.87096774],\n",
       "       [ 0.93548387,  0.74193548,  0.93548387,  0.29032258,  0.16129032,\n",
       "         0.93548387],\n",
       "       [ 0.74193548,  0.87096774,  0.87096774,  0.80645161,  0.80645161,\n",
       "         0.74193548],\n",
       "       [ 0.67741935,  0.80645161,  0.87096774,  0.80645161,  0.74193548,\n",
       "         0.87096774],\n",
       "       [ 0.41935484,  0.61290323,  0.48387097,  0.74193548,  0.87096774,\n",
       "         0.93548387],\n",
       "       [ 1.        ,  0.87096774,  1.        ,  0.93548387,  0.87096774,\n",
       "         0.93548387],\n",
       "       [ 0.5483871 ,  0.80645161,  0.61290323,  0.74193548,  0.80645161,\n",
       "         0.87096774],\n",
       "       [ 0.74193548,  0.61290323,  0.87096774,  0.87096774,  0.80645161,\n",
       "         0.74193548],\n",
       "       [ 0.93548387,  0.87096774,  1.        ,  0.93548387,  0.93548387,\n",
       "         0.80645161],\n",
       "       [ 0.67741935,  0.67741935,  0.80645161,  0.80645161,  0.74193548,\n",
       "         0.87096774],\n",
       "       [ 0.74193548,  0.80645161,  0.61290323,  0.80645161,  0.74193548,\n",
       "         0.93548387],\n",
       "       [ 0.80645161,  0.29032258,  0.5483871 ,  0.67741935,  0.80645161,\n",
       "         0.74193548],\n",
       "       [ 0.74193548,  0.67741935,  0.80645161,  0.87096774,  0.87096774,\n",
       "         0.87096774],\n",
       "       [ 0.5483871 ,  0.93548387,  0.48387097,  0.74193548,  0.80645161,\n",
       "         0.93548387],\n",
       "       [ 0.67741935,  0.67741935,  0.87096774,  0.80645161,  0.67741935,\n",
       "         0.74193548],\n",
       "       [ 0.74193548,  0.74193548,  1.        ,  0.93548387,  0.87096774,\n",
       "         0.93548387],\n",
       "       [ 0.74193548,  0.74193548,  1.        ,  1.        ,  1.        ,\n",
       "         0.93548387],\n",
       "       [ 0.5483871 ,  0.61290323,  0.87096774,  0.74193548,  0.67741935,\n",
       "         0.61290323],\n",
       "       [-0.16129032,  0.67741935,  0.61290323,  0.87096774,  0.61290323,\n",
       "         0.80645161],\n",
       "       [ 0.93548387,  0.29032258,  0.61290323,  0.61290323,  0.74193548,\n",
       "         0.74193548],\n",
       "       [ 0.61290323,  0.48387097,  0.80645161,  0.80645161,  0.5483871 ,\n",
       "         0.80645161],\n",
       "       [ 0.67741935,  0.74193548,  0.61290323,  0.61290323,  0.87096774,\n",
       "         0.67741935],\n",
       "       [ 0.48387097,  0.87096774,  0.87096774,  0.74193548,  0.87096774,\n",
       "         0.87096774],\n",
       "       [ 0.93548387,  0.41935484,  0.80645161, -0.5483871 , -0.09677419,\n",
       "         0.67741935],\n",
       "       [ 0.61290323,  0.67741935,  0.48387097,  0.80645161,  0.67741935,\n",
       "         0.93548387],\n",
       "       [ 0.74193548,  0.74193548,  1.        ,  0.87096774,  0.87096774,\n",
       "         0.80645161],\n",
       "       [ 0.41935484,  0.87096774,  0.35483871,  0.80645161,  0.80645161,\n",
       "         0.80645161],\n",
       "       [ 0.61290323,  0.80645161,  0.41935484,  0.80645161,  0.80645161,\n",
       "         0.67741935],\n",
       "       [ 0.61290323,  0.41935484,  0.93548387,  0.87096774,  0.80645161,\n",
       "         0.80645161]])"
      ]
     },
     "execution_count": 53,
     "metadata": {},
     "output_type": "execute_result"
    }
   ],
   "source": [
    "tau_is.T"
   ]
  },
  {
   "cell_type": "code",
   "execution_count": 54,
   "metadata": {
    "collapsed": true
   },
   "outputs": [],
   "source": [
    "## Table with local concordance values. bold for those with significant lisas\n"
   ]
  },
  {
   "cell_type": "code",
   "execution_count": 55,
   "metadata": {
    "collapsed": false
   },
   "outputs": [],
   "source": [
    "moran_p = [m.p_sim for m in moran_tau]\n",
    "moran_I = [m.I for m in moran_tau]"
   ]
  },
  {
   "cell_type": "code",
   "execution_count": 56,
   "metadata": {
    "collapsed": false
   },
   "outputs": [],
   "source": [
    "\n",
    "body = []\n",
    "for i in range(32):\n",
    "    rt = tau_is.T[i]\n",
    "    row = []\n",
    "    row.append(state[i])\n",
    "    for j,t in enumerate(rt):\n",
    "        if lisa_p.T[i,j] < 0.05:\n",
    "            v = \"\\\\textbf{%8.2f}\"%t\n",
    "        else:\n",
    "            v = \"%8.2f\"%t\n",
    "        row.append(v)\n",
    "    body.append(\"&\".join(row))\n",
    "header = \"\\\\begin{tabular}{|lrrrrrr|}\\n\\hline\\n\"\n",
    "header += \"      &$\\\\tau_i$&$\\\\tau_i$&$\\\\tau_i$&$\\\\tau_i$&$\\\\tau_i$&$\\\\tau_i$\\\\\\\\\\n\"\n",
    "header += \"State&40-50&50-60&60-70&70-80&80-90&90-00\"\n",
    "header +=\"\\\\\\\\\\n\\hline\\n\"\n",
    "footer =\"\\hline\\n\\\\end{tabular}\"\n",
    "table = header+\"\\\\\\\\\\n\".join(body)+\"\\\\\\\\\\n\"+footer"
   ]
  },
  {
   "cell_type": "code",
   "execution_count": 57,
   "metadata": {
    "collapsed": false
   },
   "outputs": [
    {
     "name": "stdout",
     "output_type": "stream",
     "text": [
      "\\begin{tabular}{|lrrrrrr|}\n",
      "\\hline\n",
      "      &$\\tau_i$&$\\tau_i$&$\\tau_i$&$\\tau_i$&$\\tau_i$&$\\tau_i$\\\\\n",
      "State&40-50&50-60&60-70&70-80&80-90&90-00\\\\\n",
      "\\hline\n",
      "Aguascalientes&\\textbf{   -0.03}&    0.61&    0.61&    0.81&    0.74&    0.81\\\\\n",
      "Baja California&    0.94&    0.81&    1.00&    0.94&    0.87&    0.87\\\\\n",
      "Baja California Sur&    0.81&    0.87&    1.00&    0.94&    0.81&    0.74\\\\\n",
      "Campeche&    0.74&    0.81&\\textbf{    0.74}&\\textbf{    0.68}&   -0.68&\\textbf{    0.87}\\\\\n",
      "Chiapas&    0.94&    0.74&    0.94&\\textbf{    0.29}&\\textbf{    0.16}&    0.94\\\\\n",
      "Chihuahua&    0.74&    0.87&    0.87&    0.81&    0.81&\\textbf{    0.74}\\\\\n",
      "Coahuila&    0.68&    0.81&    0.87&    0.81&    0.74&    0.87\\\\\n",
      "Colima&    0.42&    0.61&    0.48&    0.74&    0.87&    0.94\\\\\n",
      "Distrito Federal&    1.00&\\textbf{    0.87}&    1.00&    0.94&    0.87&    0.94\\\\\n",
      "Durango&\\textbf{    0.55}&\\textbf{    0.81}&    0.61&    0.74&    0.81&    0.87\\\\\n",
      "Guanajuato&\\textbf{    0.74}&    0.61&    0.87&    0.87&    0.81&    0.74\\\\\n",
      "Guerrero&    0.94&    0.87&    1.00&    0.94&    0.94&\\textbf{    0.81}\\\\\n",
      "Hidalgo&    0.68&    0.68&    0.81&    0.81&    0.74&    0.87\\\\\n",
      "Jalisco&    0.74&    0.81&    0.61&    0.81&    0.74&    0.94\\\\\n",
      "Mexico&\\textbf{    0.81}&\\textbf{    0.29}&\\textbf{    0.55}&\\textbf{    0.68}&    0.81&\\textbf{    0.74}\\\\\n",
      "Michoacan&\\textbf{    0.74}&    0.68&\\textbf{    0.81}&    0.87&    0.87&    0.87\\\\\n",
      "Morelos&    0.55&    0.94&    0.48&    0.74&    0.81&    0.94\\\\\n",
      "Nayarit&    0.68&    0.68&    0.87&    0.81&    0.68&    0.74\\\\\n",
      "Nuevo Leon&    0.74&    0.74&    1.00&    0.94&    0.87&    0.94\\\\\n",
      "Oaxaca&\\textbf{    0.74}&    0.74&    1.00&    1.00&    1.00&    0.94\\\\\n",
      "Puebla&    0.55&    0.61&    0.87&    0.74&    0.68&    0.61\\\\\n",
      "Quertaro&\\textbf{   -0.16}&    0.68&    0.61&    0.87&    0.61&    0.81\\\\\n",
      "Quintana Roo&    0.94&    0.29&\\textbf{    0.61}&\\textbf{    0.61}&\\textbf{    0.74}&    0.74\\\\\n",
      "San Luis Potosi&\\textbf{    0.61}&    0.48&    0.81&    0.81&    0.55&    0.81\\\\\n",
      "Sinaloa&    0.68&    0.74&    0.61&    0.61&    0.87&    0.68\\\\\n",
      "Sonora&    0.48&    0.87&    0.87&    0.74&    0.87&    0.87\\\\\n",
      "Tabasco&    0.94&    0.42&\\textbf{    0.81}&   -0.55&   -0.10&    0.68\\\\\n",
      "Tamaulipas&    0.61&\\textbf{    0.68}&\\textbf{    0.48}&    0.81&    0.68&    0.94\\\\\n",
      "Tlaxcala&    0.74&    0.74&    1.00&    0.87&    0.87&    0.81\\\\\n",
      "Veracruz&    0.42&    0.87&    0.35&\\textbf{    0.81}&\\textbf{    0.81}&\\textbf{    0.81}\\\\\n",
      "Yucatan&    0.61&    0.81&\\textbf{    0.42}&\\textbf{    0.81}&\\textbf{    0.81}&    0.68\\\\\n",
      "Zacatecas&\\textbf{    0.61}&    0.42&    0.94&    0.87&    0.81&    0.81\\\\\n",
      "\\hline\n",
      "\\end{tabular}\n"
     ]
    }
   ],
   "source": [
    "print table"
   ]
  },
  {
   "cell_type": "code",
   "execution_count": 58,
   "metadata": {
    "collapsed": true
   },
   "outputs": [],
   "source": [
    "fo = open(\"tauilisa.tex\",'w')\n",
    "fo.write(table)\n",
    "fo.close()"
   ]
  },
  {
   "cell_type": "markdown",
   "metadata": {},
   "source": [
    "### Table 3"
   ]
  },
  {
   "cell_type": "code",
   "execution_count": 59,
   "metadata": {
    "collapsed": true
   },
   "outputs": [],
   "source": [
    "# local conditional randomization\n",
    "def tauA(x, y, w):\n",
    "    n = len(x)\n",
    "    xx = x.reshape(n,1)\n",
    "    yy = y.reshape(n,1)\n",
    "    W = w.full()[0]\n",
    "    C = (xx-xx.T) * (yy-yy.T)\n",
    "    S = -1 * (C<0) + 1 * (C>0)\n",
    "    t = S.sum()*1. / (n*(n-1))\n",
    "    WS = W * S\n",
    "    st = WS.sum()*1./ W.sum()\n",
    "    #locals\n",
    "    si = S.sum(axis=1)\n",
    "    ti = si * 1./ (n-1) # local tau \n",
    "    wsi = WS.sum(axis=1) \n",
    "    sti = wsi*1./ w.cardinalities.values()\n",
    "    \n",
    "    return si,ti,wsi,sti,S,WS,t, st\n",
    "\n",
    "def local_tauA(x, y, w, permutations=9):\n",
    "    observed = tauA(x, y, w)\n",
    "    n = len(x)\n",
    "    wsi = np.zeros((n,permutations))\n",
    "    si = np.zeros((n,permutations))\n",
    "    pvalues = np.zeros((n,1))\n",
    "    for i in xrange(n):\n",
    "        yr = np.zeros_like(y)\n",
    "        xr = np.zeros_like(y)\n",
    "        rids = range(n)\n",
    "        rids.remove(i)\n",
    "        larger = 0\n",
    "        obs = observed[2][i]\n",
    "        for r in xrange(permutations):\n",
    "            yr[i] = y[i]\n",
    "            pids = np.random.permutation(rids)\n",
    "            yr[rids] = y[pids]\n",
    "            xr[i] = x[i]\n",
    "            xr[rids] = xr[pids]\n",
    "            res = tauA(xr,yr,w)\n",
    "            wsi[i,r] = res[2][i]\n",
    "            si[i,r] = res[0][i]\n",
    "        larger = (wsi[i] >= obs).sum()\n",
    "        if (permutations - larger) < larger:\n",
    "            larger = permutations - larger\n",
    "        pvalues[i] = (larger+1.)/(1+permutations)\n",
    "    results = {}\n",
    "    results['wsi'] = wsi\n",
    "    results['si'] = si\n",
    "    results['observed'] = observed\n",
    "    results['pvalues'] = pvalues\n",
    "    return results    \n",
    "    #return wsi, si, observed, pvalues\n",
    "            \n",
    "    "
   ]
  },
  {
   "cell_type": "code",
   "execution_count": 60,
   "metadata": {
    "collapsed": false
   },
   "outputs": [
    {
     "data": {
      "text/plain": [
       "'R'"
      ]
     },
     "execution_count": 60,
     "metadata": {},
     "output_type": "execute_result"
    }
   ],
   "source": [
    "w.transform"
   ]
  },
  {
   "cell_type": "code",
   "execution_count": 61,
   "metadata": {
    "collapsed": false
   },
   "outputs": [],
   "source": [
    "w.transform = 'B'\n",
    "np.random.seed(123456)\n",
    "tauI = []\n",
    "for i in range(6):\n",
    "    tauI.append(local_tauA(y[:,i],y[:,i+1],w,99))"
   ]
  },
  {
   "cell_type": "code",
   "execution_count": 62,
   "metadata": {
    "collapsed": false
   },
   "outputs": [],
   "source": [
    "#observed:return si,ti,wsi,sti,S,WS,t, st\n",
    "tauI[0]['observed'][3]\n",
    "tauI[0]['pvalues']\n",
    "\n",
    "pvalues = np.array([ res['pvalues'] for res in tauI])\n",
    "observed = np.array([ res['observed'][3] for res in tauI])"
   ]
  },
  {
   "cell_type": "code",
   "execution_count": 63,
   "metadata": {
    "collapsed": false
   },
   "outputs": [
    {
     "data": {
      "text/plain": [
       "(6, 32, 1)"
      ]
     },
     "execution_count": 63,
     "metadata": {},
     "output_type": "execute_result"
    }
   ],
   "source": [
    "pvalues.shape"
   ]
  },
  {
   "cell_type": "code",
   "execution_count": 64,
   "metadata": {
    "collapsed": false
   },
   "outputs": [
    {
     "data": {
      "text/plain": [
       "array([[ 0.43,  0.42,  0.46,  0.14,  0.5 ,  0.3 ],\n",
       "       [ 0.25,  0.01,  0.37,  0.47,  0.47,  0.28],\n",
       "       [ 0.37,  0.28,  0.31,  0.46,  0.38,  0.23],\n",
       "       [ 0.01,  0.03,  0.1 ,  0.02,  0.01,  0.28],\n",
       "       [ 0.06,  0.36,  0.02,  0.49,  0.09,  0.01],\n",
       "       [ 0.13,  0.14,  0.05,  0.33,  0.31,  0.02],\n",
       "       [ 0.38,  0.15,  0.04,  0.31,  0.48,  0.2 ],\n",
       "       [ 0.13,  0.01,  0.29,  0.38,  0.07,  0.15],\n",
       "       [ 0.08,  0.01,  0.01,  0.03,  0.05,  0.01],\n",
       "       [ 0.08,  0.1 ,  0.49,  0.05,  0.03,  0.06],\n",
       "       [ 0.18,  0.41,  0.05,  0.01,  0.01,  0.01],\n",
       "       [ 0.01,  0.02,  0.01,  0.01,  0.02,  0.01],\n",
       "       [ 0.1 ,  0.03,  0.01,  0.01,  0.16,  0.14],\n",
       "       [ 0.46,  0.13,  0.21,  0.15,  0.14,  0.11],\n",
       "       [ 0.18,  0.5 ,  0.23,  0.39,  0.38,  0.47],\n",
       "       [ 0.03,  0.02,  0.07,  0.06,  0.08,  0.01],\n",
       "       [ 0.45,  0.5 ,  0.12,  0.13,  0.17,  0.09],\n",
       "       [ 0.32,  0.17,  0.16,  0.02,  0.01,  0.01],\n",
       "       [ 0.17,  0.01,  0.12,  0.26,  0.28,  0.23],\n",
       "       [ 0.31,  0.01,  0.01,  0.01,  0.01,  0.01],\n",
       "       [ 0.29,  0.04,  0.02,  0.01,  0.06,  0.29],\n",
       "       [ 0.18,  0.24,  0.39,  0.06,  0.5 ,  0.38],\n",
       "       [ 0.01,  0.1 ,  0.09,  0.16,  0.04,  0.35],\n",
       "       [ 0.37,  0.42,  0.01,  0.01,  0.09,  0.02],\n",
       "       [ 0.3 ,  0.43,  0.16,  0.21,  0.04,  0.01],\n",
       "       [ 0.03,  0.2 ,  0.01,  0.13,  0.2 ,  0.09],\n",
       "       [ 0.01,  0.15,  0.05,  0.01,  0.42,  0.05],\n",
       "       [ 0.44,  0.01,  0.25,  0.18,  0.06,  0.1 ],\n",
       "       [ 0.01,  0.01,  0.01,  0.01,  0.01,  0.01],\n",
       "       [ 0.21,  0.28,  0.25,  0.43,  0.08,  0.01],\n",
       "       [ 0.5 ,  0.22,  0.18,  0.5 ,  0.16,  0.33],\n",
       "       [ 0.26,  0.19,  0.01,  0.01,  0.01,  0.01]])"
      ]
     },
     "execution_count": 64,
     "metadata": {},
     "output_type": "execute_result"
    }
   ],
   "source": [
    "pvalues.shape=(6,32)\n",
    "pvalues.T"
   ]
  },
  {
   "cell_type": "code",
   "execution_count": 65,
   "metadata": {
    "collapsed": false
   },
   "outputs": [
    {
     "data": {
      "text/plain": [
       "(6, 32)"
      ]
     },
     "execution_count": 65,
     "metadata": {},
     "output_type": "execute_result"
    }
   ],
   "source": [
    "observed.shape"
   ]
  },
  {
   "cell_type": "code",
   "execution_count": 66,
   "metadata": {
    "collapsed": false
   },
   "outputs": [
    {
     "data": {
      "text/plain": [
       "array([[-0.2       ,  0.2       ,  0.6       ,  1.        ,  0.6       ,\n",
       "         0.6       ],\n",
       "       [ 1.        ,  0.6       ,  1.        ,  1.        ,  1.        ,\n",
       "         0.6       ],\n",
       "       [ 1.        ,  1.        ,  1.        ,  1.        ,  1.        ,\n",
       "         1.        ],\n",
       "       [ 1.        ,  0.5       ,  0.5       ,  0.5       , -1.        ,\n",
       "         1.        ],\n",
       "       [ 0.33333333, -0.33333333,  0.33333333,  0.33333333, -0.33333333,\n",
       "         0.33333333],\n",
       "       [ 0.6       ,  0.6       ,  0.2       ,  0.6       ,  1.        ,\n",
       "         0.2       ],\n",
       "       [ 0.6       ,  0.6       ,  0.2       ,  0.6       ,  1.        ,\n",
       "         0.6       ],\n",
       "       [-0.5       ,  1.        ,  0.5       ,  0.5       ,  1.        ,\n",
       "         1.        ],\n",
       "       [ 1.        ,  1.        ,  1.        ,  1.        ,  1.        ,\n",
       "         1.        ],\n",
       "       [ 1.        ,  1.        ,  0.2       ,  1.        ,  1.        ,\n",
       "         1.        ],\n",
       "       [ 0.2       ,  0.2       ,  0.6       ,  1.        ,  0.6       ,\n",
       "         1.        ],\n",
       "       [ 0.33333333,  0.33333333,  1.        ,  1.        ,  0.33333333,\n",
       "         1.        ],\n",
       "       [ 0.33333333,  1.        ,  1.        ,  1.        ,  0.33333333,\n",
       "         0.33333333],\n",
       "       [ 0.5       ,  1.        ,  1.        ,  1.        ,  1.        ,\n",
       "         1.        ],\n",
       "       [ 1.        ,  1.        ,  1.        ,  1.        ,  1.        ,\n",
       "         1.        ],\n",
       "       [ 1.        ,  0.33333333,  0.33333333,  0.33333333,  0.33333333,\n",
       "         1.        ],\n",
       "       [ 1.        ,  1.        ,  1.        ,  1.        ,  1.        ,\n",
       "         1.        ],\n",
       "       [ 0.        ,  0.5       ,  0.5       ,  1.        ,  1.        ,\n",
       "         1.        ],\n",
       "       [ 0.6       ,  0.2       ,  1.        ,  1.        ,  1.        ,\n",
       "         1.        ],\n",
       "       [-0.33333333, -0.33333333,  1.        ,  1.        ,  1.        ,\n",
       "         0.33333333],\n",
       "       [-0.33333333,  1.        ,  1.        ,  1.        ,  0.33333333,\n",
       "         0.33333333],\n",
       "       [-0.6       ,  0.2       ,  0.2       ,  1.        ,  0.6       ,\n",
       "         0.6       ],\n",
       "       [ 1.        ,  0.        ,  0.        ,  0.5       ,  0.        ,\n",
       "         1.        ],\n",
       "       [ 0.2       , -0.2       ,  1.        ,  1.        ,  0.6       ,\n",
       "         1.        ],\n",
       "       [ 0.        ,  0.5       ,  1.        ,  0.5       ,  1.        ,\n",
       "         1.        ],\n",
       "       [ 0.2       ,  0.6       ,  0.2       ,  0.2       ,  1.        ,\n",
       "         1.        ],\n",
       "       [ 1.        ,  0.5       ,  0.5       , -1.        ,  0.        ,\n",
       "         0.5       ],\n",
       "       [ 0.6       ,  1.        ,  1.        ,  1.        ,  1.        ,\n",
       "         1.        ],\n",
       "       [ 0.33333333,  1.        ,  1.        ,  1.        ,  1.        ,\n",
       "         1.        ],\n",
       "       [ 0.5       ,  0.5       ,  0.5       ,  0.        ,  0.5       ,\n",
       "         1.        ],\n",
       "       [ 0.5       ,  0.5       ,  0.5       ,  0.        ,  0.5       ,\n",
       "         0.5       ],\n",
       "       [-0.2       , -0.2       ,  1.        ,  1.        ,  1.        ,\n",
       "         1.        ]])"
      ]
     },
     "execution_count": 66,
     "metadata": {},
     "output_type": "execute_result"
    }
   ],
   "source": [
    "observed.T"
   ]
  },
  {
   "cell_type": "code",
   "execution_count": 67,
   "metadata": {
    "collapsed": false
   },
   "outputs": [],
   "source": [
    "\n",
    "body = []\n",
    "for i in range(32):\n",
    "    rt = observed.T[i]\n",
    "    row = []\n",
    "    row.append(state[i])\n",
    "    for j,t in enumerate(rt):\n",
    "        if pvalues.T[i,j] < 0.05:\n",
    "            v = \"\\\\textbf{%8.2f}\"%t\n",
    "        else:\n",
    "            v = \"%8.2f\"%t\n",
    "        row.append(v)\n",
    "    body.append(\"&\".join(row))\n",
    "header = \"\\\\begin{tabular}{|lrrrrrr|}\\n\\hline\\n\"\n",
    "header += \"      &$\\\\tau_{I,i}$&$\\\\tau_{I,i}$&$\\\\tau_{I,i}$&$\\\\tau_{I,i}$&$\\\\tau_{I,i}$&$\\\\tau_{I,i}$\\\\\\\\\\n\"\n",
    "header += \"State&40-50&50-60&60-70&70-80&80-90&90-00\"\n",
    "header +=\"\\\\\\\\\\n\\hline\\n\"\n",
    "footer =\"\\hline\\n\\\\end{tabular}\"\n",
    "table = header+\"\\\\\\\\\\n\".join(body)+\"\\\\\\\\\\n\"+footer"
   ]
  },
  {
   "cell_type": "code",
   "execution_count": 68,
   "metadata": {
    "collapsed": false
   },
   "outputs": [
    {
     "name": "stdout",
     "output_type": "stream",
     "text": [
      "\\begin{tabular}{|lrrrrrr|}\n",
      "\\hline\n",
      "      &$\\tau_{I,i}$&$\\tau_{I,i}$&$\\tau_{I,i}$&$\\tau_{I,i}$&$\\tau_{I,i}$&$\\tau_{I,i}$\\\\\n",
      "State&40-50&50-60&60-70&70-80&80-90&90-00\\\\\n",
      "\\hline\n",
      "Aguascalientes&   -0.20&    0.20&    0.60&    1.00&    0.60&    0.60\\\\\n",
      "Baja California&    1.00&\\textbf{    0.60}&    1.00&    1.00&    1.00&    0.60\\\\\n",
      "Baja California Sur&    1.00&    1.00&    1.00&    1.00&    1.00&    1.00\\\\\n",
      "Campeche&\\textbf{    1.00}&\\textbf{    0.50}&    0.50&\\textbf{    0.50}&\\textbf{   -1.00}&    1.00\\\\\n",
      "Chiapas&    0.33&   -0.33&\\textbf{    0.33}&    0.33&   -0.33&\\textbf{    0.33}\\\\\n",
      "Chihuahua&    0.60&    0.60&    0.20&    0.60&    1.00&\\textbf{    0.20}\\\\\n",
      "Coahuila&    0.60&    0.60&\\textbf{    0.20}&    0.60&    1.00&    0.60\\\\\n",
      "Colima&   -0.50&\\textbf{    1.00}&    0.50&    0.50&    1.00&    1.00\\\\\n",
      "Distrito Federal&    1.00&\\textbf{    1.00}&\\textbf{    1.00}&\\textbf{    1.00}&    1.00&\\textbf{    1.00}\\\\\n",
      "Durango&    1.00&    1.00&    0.20&    1.00&\\textbf{    1.00}&    1.00\\\\\n",
      "Guanajuato&    0.20&    0.20&    0.60&\\textbf{    1.00}&\\textbf{    0.60}&\\textbf{    1.00}\\\\\n",
      "Guerrero&\\textbf{    0.33}&\\textbf{    0.33}&\\textbf{    1.00}&\\textbf{    1.00}&\\textbf{    0.33}&\\textbf{    1.00}\\\\\n",
      "Hidalgo&    0.33&\\textbf{    1.00}&\\textbf{    1.00}&\\textbf{    1.00}&    0.33&    0.33\\\\\n",
      "Jalisco&    0.50&    1.00&    1.00&    1.00&    1.00&    1.00\\\\\n",
      "Mexico&    1.00&    1.00&    1.00&    1.00&    1.00&    1.00\\\\\n",
      "Michoacan&\\textbf{    1.00}&\\textbf{    0.33}&    0.33&    0.33&    0.33&\\textbf{    1.00}\\\\\n",
      "Morelos&    1.00&    1.00&    1.00&    1.00&    1.00&    1.00\\\\\n",
      "Nayarit&    0.00&    0.50&    0.50&\\textbf{    1.00}&\\textbf{    1.00}&\\textbf{    1.00}\\\\\n",
      "Nuevo Leon&    0.60&\\textbf{    0.20}&    1.00&    1.00&    1.00&    1.00\\\\\n",
      "Oaxaca&   -0.33&\\textbf{   -0.33}&\\textbf{    1.00}&\\textbf{    1.00}&\\textbf{    1.00}&\\textbf{    0.33}\\\\\n",
      "Puebla&   -0.33&\\textbf{    1.00}&\\textbf{    1.00}&\\textbf{    1.00}&    0.33&    0.33\\\\\n",
      "Quertaro&   -0.60&    0.20&    0.20&    1.00&    0.60&    0.60\\\\\n",
      "Quintana Roo&\\textbf{    1.00}&    0.00&    0.00&    0.50&\\textbf{    0.00}&    1.00\\\\\n",
      "San Luis Potosi&    0.20&   -0.20&\\textbf{    1.00}&\\textbf{    1.00}&    0.60&\\textbf{    1.00}\\\\\n",
      "Sinaloa&    0.00&    0.50&    1.00&    0.50&\\textbf{    1.00}&\\textbf{    1.00}\\\\\n",
      "Sonora&\\textbf{    0.20}&    0.60&\\textbf{    0.20}&    0.20&    1.00&    1.00\\\\\n",
      "Tabasco&\\textbf{    1.00}&    0.50&    0.50&\\textbf{   -1.00}&    0.00&    0.50\\\\\n",
      "Tamaulipas&    0.60&\\textbf{    1.00}&    1.00&    1.00&    1.00&    1.00\\\\\n",
      "Tlaxcala&\\textbf{    0.33}&\\textbf{    1.00}&\\textbf{    1.00}&\\textbf{    1.00}&\\textbf{    1.00}&\\textbf{    1.00}\\\\\n",
      "Veracruz&    0.50&    0.50&    0.50&    0.00&    0.50&\\textbf{    1.00}\\\\\n",
      "Yucatan&    0.50&    0.50&    0.50&    0.00&    0.50&    0.50\\\\\n",
      "Zacatecas&   -0.20&   -0.20&\\textbf{    1.00}&\\textbf{    1.00}&\\textbf{    1.00}&\\textbf{    1.00}\\\\\n",
      "\\hline\n",
      "\\end{tabular}\n"
     ]
    }
   ],
   "source": [
    "print table"
   ]
  },
  {
   "cell_type": "code",
   "execution_count": 69,
   "metadata": {
    "collapsed": true
   },
   "outputs": [],
   "source": [
    "f = open('tauI.tex', 'w')\n",
    "f.write(table)\n",
    "f.close()"
   ]
  },
  {
   "cell_type": "markdown",
   "metadata": {},
   "source": [
    "### Table 4"
   ]
  },
  {
   "cell_type": "code",
   "execution_count": 70,
   "metadata": {
    "collapsed": true
   },
   "outputs": [],
   "source": [
    "def tauA(x, y, w):\n",
    "    n = len(x)\n",
    "    xx = x.reshape(n,1)\n",
    "    yy = y.reshape(n,1)\n",
    "    W = w.full()[0]\n",
    "    C = (xx-xx.T) * (yy-yy.T)\n",
    "    S = -1 * (C<0) + 1 * (C>0)\n",
    "    t = S.sum()*1. / (n*(n-1))\n",
    "    WS = W * S\n",
    "    st = WS.sum()*1./ W.sum()\n",
    "    #locals\n",
    "    si = S.sum(axis=1)\n",
    "    ti = si * 1./ (n-1) # local tau \n",
    "    wsi = WS.sum(axis=1) \n",
    "    sti = wsi*1./ w.cardinalities.values()\n",
    "    \n",
    "    return si,ti,wsi,sti,S,WS,t, st\n",
    "\n",
    "def taupp(x, y, w):\n",
    "    ta = tauA(x,y,w)\n",
    "    S = ta[4]\n",
    "    #print S.shape\n",
    "    n = len(x)\n",
    "    den = n * (n-1)*1.\n",
    "    t = np.zeros((n,3))\n",
    "    th = np.zeros((n,2))\n",
    "    h = np.zeros((n,2))\n",
    "    omega = np.zeros((n,2))\n",
    "    SS = S.sum()\n",
    "    for i in range(n):\n",
    "        \n",
    "        neighbors_i = [i]\n",
    "        neighbors_i.extend(w.neighbors[i])\n",
    "        ni = len(neighbors_i)\n",
    "        \n",
    "        sh = S[neighbors_i,:][:,neighbors_i]\n",
    "        \n",
    "        nonneighbors = [j for j in range(n) if j not in neighbors_i]\n",
    "        Sbh = S[nonneighbors,:][:, nonneighbors]\n",
    "        sbh = Sbh.sum()\n",
    "        omega[i,0] = (ni*(ni-1)*1.)/den\n",
    "        omega[i,1] = 1 - omega[i,0]\n",
    "        t[i,0] = sh.sum()*1.\n",
    "        t[i,1] = ni*(ni-1)\n",
    "        h[i,0] = ni\n",
    "        h[i,1] = n - ni\n",
    "        t[i,2] = t[i,0] / t[i,1]\n",
    "        th[i,0] = sh.sum()*1. / (ni*ni-1)\n",
    "        th[i,1] = sbh*1. / (h[i,1]*(h[i,1]-1))\n",
    "        #print neighbors_i\n",
    "        #print 's', sh.sum(), sbh, SS\n",
    "        #print 'h',h[i,:]\n",
    "        #print sh.sum()\n",
    "        #print 'omega', omega[i]\n",
    "        #print 'th', th[i]\n",
    "    return t,S\n",
    "    \n",
    "    \n",
    "# note taupp does not include comparisons of i with its nonneighbors. rather it compares the concordance between the pairs in i's neighborhood set against the concordance for pairs in its nonneighborhood set\n",
    "\n",
    "def tauppsim(x, y, w, permutations=99):\n",
    "    obs,S= taupp(x,y,w)\n",
    "    n = len(x)\n",
    "    den = n * (n-1)*1.\n",
    "    t = np.zeros((n,3))\n",
    "    th = np.zeros((n,2))\n",
    "    h = np.zeros((n,2))\n",
    "    omega = np.zeros((n,2))\n",
    "    SS = S.sum()\n",
    "    pvalues = np.zeros((n,1))\n",
    "    for i in range(n):\n",
    "        ids_i = [j for j in range(n) if j!=i]\n",
    "        larger = 0\n",
    "        for perm in xrange(permutations):\n",
    "            np.random.shuffle(ids_i)\n",
    "            neighbors_i = [i]\n",
    "            neighbors_i.extend(ids_i[:len(w.neighbors[i])])\n",
    "            #print i,neighbors_i\n",
    "            ni = len(neighbors_i)\n",
    "\n",
    "            sh = S[neighbors_i,:][:,neighbors_i]\n",
    "\n",
    "            nonneighbors = [j for j in range(n) if j not in neighbors_i]\n",
    "            Sbh = S[nonneighbors,:][:, nonneighbors]\n",
    "            sbh = Sbh.sum()\n",
    "            omega[i,0] = (ni*(ni-1)*1.)/den\n",
    "            omega[i,1] = 1 - omega[i,0]\n",
    "            t[i,0] = sh.sum()*1.\n",
    "            t[i,1] = ni*(ni-1)\n",
    "            h[i,0] = ni\n",
    "            h[i,1] = n - ni\n",
    "            t[i,2] = t[i,0] / t[i,1]\n",
    "            if t[i,2] >= obs[i,2]:\n",
    "                larger += 1\n",
    "        if (permutations - larger) < larger:\n",
    "            larger = permutations - larger\n",
    "        pvalues[i] = (larger+1.)/(1+permutations)\n",
    "      \n",
    "    #r = np.hstack((obs,pvalues))\n",
    "    r = (obs[:,2],pvalues)\n",
    "    results = {}\n",
    "    results['tau_h'] = obs[:,2]\n",
    "    \n",
    "    results['pvalues'] = pvalues.flatten()\n",
    "    return results\n",
    "           \n",
    "    "
   ]
  },
  {
   "cell_type": "code",
   "execution_count": 71,
   "metadata": {
    "collapsed": false
   },
   "outputs": [
    {
     "data": {
      "text/plain": [
       "[9, 10, 21, 23, 31]"
      ]
     },
     "execution_count": 71,
     "metadata": {},
     "output_type": "execute_result"
    }
   ],
   "source": [
    "w.neighbors[0]"
   ]
  },
  {
   "cell_type": "code",
   "execution_count": 72,
   "metadata": {
    "collapsed": false
   },
   "outputs": [],
   "source": [
    "t=taupp(y[:,0],y[:,1],w)\n"
   ]
  },
  {
   "cell_type": "code",
   "execution_count": 73,
   "metadata": {
    "collapsed": false
   },
   "outputs": [],
   "source": [
    "tsim = tauppsim(y[:,0],y[:,1],w)"
   ]
  },
  {
   "cell_type": "code",
   "execution_count": 74,
   "metadata": {
    "collapsed": false
   },
   "outputs": [
    {
     "data": {
      "text/plain": [
       "{'pvalues': array([ 0.08,  0.13,  0.05,  0.42,  0.05,  0.26,  0.34,  0.06,  0.01,\n",
       "         0.03,  0.01,  0.05,  0.06,  0.09,  0.14,  0.05,  0.14,  0.04,\n",
       "         0.26,  0.02,  0.13,  0.08,  0.34,  0.05,  0.04,  0.34,  0.38,\n",
       "         0.32,  0.07,  0.35,  0.5 ,  0.03]),\n",
       " 'tau_h': array([ 0.06666667,  0.6       ,  0.2       ,  0.8       ,  0.33333333,\n",
       "         0.6       ,  0.6       ,  0.2       ,  1.        ,  0.06666667,\n",
       "         0.06666667,  0.33333333,  0.33333333,  0.2       ,  1.        ,\n",
       "         0.33333333,  0.33333333,  0.2       ,  0.6       ,  0.33333333,\n",
       "         0.33333333,  0.06666667,  0.8       ,  0.06666667,  0.2       ,\n",
       "         0.6       ,  0.8       ,  0.6       ,  0.33333333,  0.8       ,\n",
       "         0.8       ,  0.06666667])}"
      ]
     },
     "execution_count": 74,
     "metadata": {},
     "output_type": "execute_result"
    }
   ],
   "source": [
    "tsim"
   ]
  },
  {
   "cell_type": "code",
   "execution_count": 75,
   "metadata": {
    "collapsed": false
   },
   "outputs": [],
   "source": [
    "np.random.seed(12345)\n",
    "tauII = []\n",
    "for i in range(6):\n",
    "    tauII.append(tauppsim(y[:,i], y[:,i+1],w))\n",
    "    "
   ]
  },
  {
   "cell_type": "code",
   "execution_count": 76,
   "metadata": {
    "collapsed": true
   },
   "outputs": [],
   "source": [
    "pvalues = np.array([res['pvalues'] for res in tauII])\n",
    "tau2 = np.array([res['tau_h'] for res in tauII])"
   ]
  },
  {
   "cell_type": "code",
   "execution_count": 77,
   "metadata": {
    "collapsed": false
   },
   "outputs": [
    {
     "data": {
      "text/plain": [
       "array([[ 0.06666667,  0.6       ,  0.2       ,  0.8       ,  0.33333333,\n",
       "         0.6       ,  0.6       ,  0.2       ,  1.        ,  0.06666667,\n",
       "         0.06666667,  0.33333333,  0.33333333,  0.2       ,  1.        ,\n",
       "         0.33333333,  0.33333333,  0.2       ,  0.6       ,  0.33333333,\n",
       "         0.33333333,  0.06666667,  0.8       ,  0.06666667,  0.2       ,\n",
       "         0.6       ,  0.8       ,  0.6       ,  0.33333333,  0.8       ,\n",
       "         0.8       ,  0.06666667],\n",
       "       [ 0.2       ,  0.6       ,  0.8       ,  0.4       ,  0.        ,\n",
       "         0.6       ,  0.6       ,  0.8       ,  1.        ,  0.2       ,\n",
       "         0.2       ,  0.        ,  1.        ,  0.8       ,  1.        ,\n",
       "         0.        ,  1.        ,  0.8       ,  0.6       ,  0.        ,\n",
       "         1.        ,  0.2       ,  0.4       ,  0.2       ,  0.8       ,\n",
       "         0.6       ,  0.4       ,  0.6       ,  1.        ,  0.4       ,\n",
       "         0.4       ,  0.2       ],\n",
       "       [ 0.6       ,  0.6       ,  0.8       ,  0.4       ,  0.66666667,\n",
       "         0.6       ,  0.6       ,  0.8       ,  1.        ,  0.6       ,\n",
       "         0.6       ,  0.66666667,  1.        ,  0.8       ,  1.        ,\n",
       "         0.66666667,  1.        ,  0.8       ,  0.6       ,  0.66666667,\n",
       "         1.        ,  0.6       ,  0.4       ,  0.6       ,  0.8       ,\n",
       "         0.6       ,  0.4       ,  0.6       ,  1.        ,  0.4       ,\n",
       "         0.4       ,  0.6       ],\n",
       "       [ 1.        ,  0.73333333,  0.8       ,  0.        ,  0.66666667,\n",
       "         0.73333333,  0.73333333,  0.8       ,  1.        ,  1.        ,\n",
       "         1.        ,  0.66666667,  1.        ,  0.8       ,  1.        ,\n",
       "         0.66666667,  1.        ,  0.8       ,  0.73333333,  0.66666667,\n",
       "         1.        ,  1.        ,  0.        ,  1.        ,  0.8       ,\n",
       "         0.73333333,  0.        ,  0.73333333,  1.        ,  0.        ,\n",
       "         0.        ,  1.        ],\n",
       "       [ 0.73333333,  1.        ,  1.        ,  0.        ,  0.33333333,\n",
       "         1.        ,  1.        ,  1.        ,  1.        ,  0.73333333,\n",
       "         0.73333333,  0.33333333,  0.66666667,  1.        ,  1.        ,\n",
       "         0.33333333,  0.66666667,  1.        ,  1.        ,  0.33333333,\n",
       "         0.66666667,  0.73333333,  0.        ,  0.73333333,  1.        ,\n",
       "         1.        ,  0.        ,  1.        ,  0.66666667,  0.        ,\n",
       "         0.        ,  0.73333333],\n",
       "       [ 0.86666667,  0.73333333,  1.        ,  0.8       ,  0.66666667,\n",
       "         0.73333333,  0.73333333,  1.        ,  1.        ,  0.86666667,\n",
       "         0.86666667,  0.66666667,  0.66666667,  1.        ,  1.        ,\n",
       "         0.66666667,  0.66666667,  1.        ,  0.73333333,  0.66666667,\n",
       "         0.66666667,  0.86666667,  0.8       ,  0.86666667,  1.        ,\n",
       "         0.73333333,  0.8       ,  0.73333333,  0.66666667,  0.8       ,\n",
       "         0.8       ,  0.86666667]])"
      ]
     },
     "execution_count": 77,
     "metadata": {},
     "output_type": "execute_result"
    }
   ],
   "source": [
    "tau2"
   ]
  },
  {
   "cell_type": "code",
   "execution_count": 78,
   "metadata": {
    "collapsed": false
   },
   "outputs": [],
   "source": [
    "body = []\n",
    "for i in range(32):\n",
    "    rt = tau2.T[i]\n",
    "    row = []\n",
    "    row.append(state[i])\n",
    "    for j,t in enumerate(rt):\n",
    "        if pvalues.T[i,j] < 0.05:\n",
    "            v = \"\\\\textbf{%8.2f}\"%t\n",
    "        else:\n",
    "            v = \"%8.2f\"%t\n",
    "        row.append(v)\n",
    "    body.append(\"&\".join(row))\n",
    "header = \"\\\\begin{tabular}{|lrrrrrr|}\\n\\hline\\n\"\n",
    "header += \"      &$\\\\tau_{II,i}$&$\\\\tau_{II,i}$&$\\\\tau_{II,i}$&$\\\\tau_{II,i}$&$\\\\tau_{II,i}$&$\\\\tau_{II,i}$\\\\\\\\\\n\"\n",
    "header += \"State&40-50&50-60&60-70&70-80&80-90&90-00\"\n",
    "header +=\"\\\\\\\\\\n\\hline\\n\"\n",
    "footer =\"\\hline\\n\\\\end{tabular}\"\n",
    "table = header+\"\\\\\\\\\\n\".join(body)+\"\\\\\\\\\\n\"+footer"
   ]
  },
  {
   "cell_type": "code",
   "execution_count": 79,
   "metadata": {
    "collapsed": false
   },
   "outputs": [
    {
     "name": "stdout",
     "output_type": "stream",
     "text": [
      "\\begin{tabular}{|lrrrrrr|}\n",
      "\\hline\n",
      "      &$\\tau_{II,i}$&$\\tau_{II,i}$&$\\tau_{II,i}$&$\\tau_{II,i}$&$\\tau_{II,i}$&$\\tau_{II,i}$\\\\\n",
      "State&40-50&50-60&60-70&70-80&80-90&90-00\\\\\n",
      "\\hline\n",
      "Aguascalientes&\\textbf{    0.07}&\\textbf{    0.20}&    0.60&    1.00&    0.73&    0.87\\\\\n",
      "Baja California&    0.60&    0.60&    0.60&    0.73&    1.00&    0.73\\\\\n",
      "Baja California Sur&\\textbf{    0.20}&    0.80&    0.80&    0.80&    1.00&    1.00\\\\\n",
      "Campeche&    0.80&\\textbf{    0.40}&\\textbf{    0.40}&\\textbf{    0.00}&    0.00&    0.80\\\\\n",
      "Chiapas&\\textbf{    0.33}&\\textbf{    0.00}&    0.67&    0.67&    0.33&\\textbf{    0.67}\\\\\n",
      "Chihuahua&    0.60&    0.60&\\textbf{    0.60}&    0.73&    1.00&    0.73\\\\\n",
      "Coahuila&    0.60&    0.60&    0.60&    0.73&    1.00&    0.73\\\\\n",
      "Colima&    0.20&    0.80&    0.80&    0.80&    1.00&    1.00\\\\\n",
      "Distrito Federal&\\textbf{    1.00}&    1.00&\\textbf{    1.00}&\\textbf{    1.00}&    1.00&\\textbf{    1.00}\\\\\n",
      "Durango&\\textbf{    0.07}&\\textbf{    0.20}&    0.60&    1.00&    0.73&    0.87\\\\\n",
      "Guanajuato&\\textbf{    0.07}&\\textbf{    0.20}&    0.60&    1.00&    0.73&    0.87\\\\\n",
      "Guerrero&\\textbf{    0.33}&\\textbf{    0.00}&    0.67&    0.67&\\textbf{    0.33}&    0.67\\\\\n",
      "Hidalgo&    0.33&    1.00&    1.00&    1.00&    0.67&    0.67\\\\\n",
      "Jalisco&    0.20&    0.80&    0.80&    0.80&    1.00&    1.00\\\\\n",
      "Mexico&    1.00&    1.00&    1.00&    1.00&    1.00&    1.00\\\\\n",
      "Michoacan&\\textbf{    0.33}&\\textbf{    0.00}&    0.67&    0.67&\\textbf{    0.33}&    0.67\\\\\n",
      "Morelos&    0.33&    1.00&    1.00&    1.00&    0.67&    0.67\\\\\n",
      "Nayarit&    0.20&    0.80&    0.80&    0.80&    1.00&    1.00\\\\\n",
      "Nuevo Leon&    0.60&    0.60&\\textbf{    0.60}&    0.73&    1.00&    0.73\\\\\n",
      "Oaxaca&    0.33&\\textbf{    0.00}&    0.67&    0.67&\\textbf{    0.33}&    0.67\\\\\n",
      "Puebla&    0.33&    1.00&    1.00&    1.00&    0.67&    0.67\\\\\n",
      "Quertaro&    0.07&\\textbf{    0.20}&    0.60&    1.00&    0.73&    0.87\\\\\n",
      "Quintana Roo&    0.80&    0.40&    0.40&\\textbf{    0.00}&\\textbf{    0.00}&    0.80\\\\\n",
      "San Luis Potosi&\\textbf{    0.07}&    0.20&    0.60&    1.00&    0.73&    0.87\\\\\n",
      "Sinaloa&    0.20&    0.80&    0.80&    0.80&    1.00&    1.00\\\\\n",
      "Sonora&    0.60&    0.60&    0.60&    0.73&    1.00&    0.73\\\\\n",
      "Tabasco&    0.80&    0.40&\\textbf{    0.40}&\\textbf{    0.00}&    0.00&    0.80\\\\\n",
      "Tamaulipas&    0.60&    0.60&    0.60&    0.73&    1.00&    0.73\\\\\n",
      "Tlaxcala&\\textbf{    0.33}&    1.00&    1.00&    1.00&    0.67&    0.67\\\\\n",
      "Veracruz&    0.80&    0.40&    0.40&\\textbf{    0.00}&\\textbf{    0.00}&    0.80\\\\\n",
      "Yucatan&    0.80&\\textbf{    0.40}&    0.40&\\textbf{    0.00}&\\textbf{    0.00}&    0.80\\\\\n",
      "Zacatecas&\\textbf{    0.07}&\\textbf{    0.20}&    0.60&    1.00&    0.73&    0.87\\\\\n",
      "\\hline\n",
      "\\end{tabular}\n"
     ]
    }
   ],
   "source": [
    "print table"
   ]
  },
  {
   "cell_type": "code",
   "execution_count": 80,
   "metadata": {
    "collapsed": true
   },
   "outputs": [],
   "source": [
    "f = open(\"tauII.tex\", 'w')\n",
    "f.write(table)\n",
    "f.close()"
   ]
  },
  {
   "cell_type": "markdown",
   "metadata": {},
   "source": [
    "## Interregional Concordance Decomposition"
   ]
  },
  {
   "cell_type": "markdown",
   "metadata": {},
   "source": [
    "### Table 5"
   ]
  },
  {
   "cell_type": "code",
   "execution_count": 81,
   "metadata": {
    "collapsed": false
   },
   "outputs": [],
   "source": [
    "w = ps.block_weights(np.array(regime).flatten())\n",
    "W = w.full()[0]\n",
    "n = w.n\n",
    "WH = np.ones((n,n)) - np.eye(n) - W"
   ]
  },
  {
   "cell_type": "code",
   "execution_count": 82,
   "metadata": {
    "collapsed": false
   },
   "outputs": [],
   "source": [
    "\n",
    "regime = regime - 1"
   ]
  },
  {
   "cell_type": "code",
   "execution_count": 83,
   "metadata": {
    "collapsed": false
   },
   "outputs": [
    {
     "name": "stderr",
     "output_type": "stream",
     "text": [
      "/opt/conda/envs/python2/lib/python2.7/site-packages/ipykernel/__main__.py:4: DeprecationWarning: using a non-integer number instead of an integer will result in an error in the future\n"
     ]
    }
   ],
   "source": [
    "reg = np.array(regime).flatten()\n",
    "P = np.zeros((7,n))\n",
    "for r, p in enumerate(reg):\n",
    "    P[p,r] = 1\n",
    "  "
   ]
  },
  {
   "cell_type": "code",
   "execution_count": 84,
   "metadata": {
    "collapsed": false
   },
   "outputs": [
    {
     "data": {
      "text/plain": [
       "array([ 2.,  4.,  5.,  3.,  6.,  4.,  4.,  5.,  0.,  2.,  2.,  6.,  1.,\n",
       "        5.,  0.,  6.,  1.,  5.,  4.,  6.,  1.,  2.,  3.,  2.,  5.,  4.,\n",
       "        3.,  4.,  1.,  3.,  3.,  2.])"
      ]
     },
     "execution_count": 84,
     "metadata": {},
     "output_type": "execute_result"
    }
   ],
   "source": [
    "reg"
   ]
  },
  {
   "cell_type": "code",
   "execution_count": 85,
   "metadata": {
    "collapsed": false
   },
   "outputs": [
    {
     "data": {
      "text/plain": [
       "array([[ 0.,  0.,  0.,  0.,  0.,  0.,  0.,  0.,  1.,  0.,  0.,  0.,  0.,\n",
       "         0.,  1.,  0.,  0.,  0.,  0.,  0.,  0.,  0.,  0.,  0.,  0.,  0.,\n",
       "         0.,  0.,  0.,  0.,  0.,  0.],\n",
       "       [ 0.,  0.,  0.,  0.,  0.,  0.,  0.,  0.,  0.,  0.,  0.,  0.,  1.,\n",
       "         0.,  0.,  0.,  1.,  0.,  0.,  0.,  1.,  0.,  0.,  0.,  0.,  0.,\n",
       "         0.,  0.,  1.,  0.,  0.,  0.],\n",
       "       [ 1.,  0.,  0.,  0.,  0.,  0.,  0.,  0.,  0.,  1.,  1.,  0.,  0.,\n",
       "         0.,  0.,  0.,  0.,  0.,  0.,  0.,  0.,  1.,  0.,  1.,  0.,  0.,\n",
       "         0.,  0.,  0.,  0.,  0.,  1.],\n",
       "       [ 0.,  0.,  0.,  1.,  0.,  0.,  0.,  0.,  0.,  0.,  0.,  0.,  0.,\n",
       "         0.,  0.,  0.,  0.,  0.,  0.,  0.,  0.,  0.,  1.,  0.,  0.,  0.,\n",
       "         1.,  0.,  0.,  1.,  1.,  0.],\n",
       "       [ 0.,  1.,  0.,  0.,  0.,  1.,  1.,  0.,  0.,  0.,  0.,  0.,  0.,\n",
       "         0.,  0.,  0.,  0.,  0.,  1.,  0.,  0.,  0.,  0.,  0.,  0.,  1.,\n",
       "         0.,  1.,  0.,  0.,  0.,  0.],\n",
       "       [ 0.,  0.,  1.,  0.,  0.,  0.,  0.,  1.,  0.,  0.,  0.,  0.,  0.,\n",
       "         1.,  0.,  0.,  0.,  1.,  0.,  0.,  0.,  0.,  0.,  0.,  1.,  0.,\n",
       "         0.,  0.,  0.,  0.,  0.,  0.],\n",
       "       [ 0.,  0.,  0.,  0.,  1.,  0.,  0.,  0.,  0.,  0.,  0.,  1.,  0.,\n",
       "         0.,  0.,  1.,  0.,  0.,  0.,  1.,  0.,  0.,  0.,  0.,  0.,  0.,\n",
       "         0.,  0.,  0.,  0.,  0.,  0.]])"
      ]
     },
     "execution_count": 85,
     "metadata": {},
     "output_type": "execute_result"
    }
   ],
   "source": [
    "P"
   ]
  },
  {
   "cell_type": "code",
   "execution_count": 86,
   "metadata": {
    "collapsed": false
   },
   "outputs": [],
   "source": [
    "\n",
    "x = income[:,0]\n",
    "y = income[:,1]\n",
    "d0 = x[np.newaxis,:] - x[:,np.newaxis]\n",
    "d1 = y[np.newaxis,:] - y[:,np.newaxis]\n",
    "S = d0 * d1\n",
    "S = 1 * (S>0)  + -1 * (S <0)\n",
    "WS = W*S\n",
    "WHS = WH*S\n",
    "PWSPt = np.dot(P,np.dot(WS,P.T))\n",
    "PWHSPt = np.dot(P,np.dot(WHS,P.T))\n",
    "D = np.dot(P,np.dot(W,P.T)) + np.dot(P,np.dot(WH,P.T))\n",
    "IR = np.dot(P,np.dot(S,P.T))\n",
    "IRD = IR/D"
   ]
  },
  {
   "cell_type": "code",
   "execution_count": 87,
   "metadata": {
    "collapsed": false
   },
   "outputs": [
    {
     "data": {
      "text/plain": [
       "array([[ 1.        ,  0.75      ,  1.        ,  0.8       ,  1.        ,\n",
       "         1.        ,  0.75      ],\n",
       "       [ 0.75      ,  0.33333333,  0.25      ,  0.7       ,  0.83333333,\n",
       "         0.9       ,  0.625     ],\n",
       "       [ 1.        ,  0.25      ,  0.06666667,  0.6       ,  0.22222222,\n",
       "         0.06666667,  1.        ],\n",
       "       [ 0.8       ,  0.7       ,  0.6       ,  0.8       ,  0.66666667,\n",
       "         0.84      ,  0.8       ],\n",
       "       [ 1.        ,  0.83333333,  0.22222222,  0.66666667,  0.6       ,\n",
       "         0.93333333,  1.        ],\n",
       "       [ 1.        ,  0.9       ,  0.06666667,  0.84      ,  0.93333333,\n",
       "         0.2       ,  1.        ],\n",
       "       [ 0.75      ,  0.625     ,  1.        ,  0.8       ,  1.        ,\n",
       "         1.        ,  0.33333333]])"
      ]
     },
     "execution_count": 87,
     "metadata": {},
     "output_type": "execute_result"
    }
   ],
   "source": [
    "IRD"
   ]
  },
  {
   "cell_type": "code",
   "execution_count": 88,
   "metadata": {
    "collapsed": false
   },
   "outputs": [
    {
     "data": {
      "text/plain": [
       "array([[ 1.        ,  0.        ,  0.        ,  0.        ,  0.        ,\n",
       "         0.        ,  0.        ],\n",
       "       [ 0.        ,  0.33333333,  0.        ,  0.        ,  0.        ,\n",
       "         0.        ,  0.        ],\n",
       "       [ 0.        ,  0.        ,  0.06666667,  0.        ,  0.        ,\n",
       "         0.        ,  0.        ],\n",
       "       [ 0.        ,  0.        ,  0.        ,  0.8       ,  0.        ,\n",
       "         0.        ,  0.        ],\n",
       "       [ 0.        ,  0.        ,  0.        ,  0.        ,  0.6       ,\n",
       "         0.        ,  0.        ],\n",
       "       [ 0.        ,  0.        ,  0.        ,  0.        ,  0.        ,\n",
       "         0.2       ,  0.        ],\n",
       "       [ 0.        ,  0.        ,  0.        ,  0.        ,  0.        ,\n",
       "         0.        ,  0.33333333]])"
      ]
     },
     "execution_count": 88,
     "metadata": {},
     "output_type": "execute_result"
    }
   ],
   "source": [
    "PWSPt/D"
   ]
  },
  {
   "cell_type": "code",
   "execution_count": 89,
   "metadata": {
    "collapsed": false
   },
   "outputs": [
    {
     "data": {
      "text/plain": [
       "array([[ 0.        ,  0.75      ,  1.        ,  0.8       ,  1.        ,\n",
       "         1.        ,  0.75      ],\n",
       "       [ 0.75      ,  0.        ,  0.25      ,  0.7       ,  0.83333333,\n",
       "         0.9       ,  0.625     ],\n",
       "       [ 1.        ,  0.25      ,  0.        ,  0.6       ,  0.22222222,\n",
       "         0.06666667,  1.        ],\n",
       "       [ 0.8       ,  0.7       ,  0.6       ,  0.        ,  0.66666667,\n",
       "         0.84      ,  0.8       ],\n",
       "       [ 1.        ,  0.83333333,  0.22222222,  0.66666667,  0.        ,\n",
       "         0.93333333,  1.        ],\n",
       "       [ 1.        ,  0.9       ,  0.06666667,  0.84      ,  0.93333333,\n",
       "         0.        ,  1.        ],\n",
       "       [ 0.75      ,  0.625     ,  1.        ,  0.8       ,  1.        ,\n",
       "         1.        ,  0.        ]])"
      ]
     },
     "execution_count": 89,
     "metadata": {},
     "output_type": "execute_result"
    }
   ],
   "source": [
    "PWHSPt/D"
   ]
  },
  {
   "cell_type": "code",
   "execution_count": 90,
   "metadata": {
    "collapsed": false
   },
   "outputs": [
    {
     "data": {
      "text/plain": [
       "array([[  0.,   6.,  12.,   8.,  12.,  10.,   6.],\n",
       "       [  6.,   0.,   6.,  14.,  20.,  18.,  10.],\n",
       "       [ 12.,   6.,   0.,  18.,   8.,   2.,  24.],\n",
       "       [  8.,  14.,  18.,   0.,  20.,  21.,  16.],\n",
       "       [ 12.,  20.,   8.,  20.,   0.,  28.,  24.],\n",
       "       [ 10.,  18.,   2.,  21.,  28.,   0.,  20.],\n",
       "       [  6.,  10.,  24.,  16.,  24.,  20.,   0.]])"
      ]
     },
     "execution_count": 90,
     "metadata": {},
     "output_type": "execute_result"
    }
   ],
   "source": [
    "PWHSPt"
   ]
  },
  {
   "cell_type": "code",
   "execution_count": 91,
   "metadata": {
    "collapsed": true
   },
   "outputs": [],
   "source": [
    "def tauR(x, y, regime, permutations=99):\n",
    "    \"\"\"\n",
    "    regime: 0-offset regime id variable\n",
    "    \"\"\"\n",
    "    reg = np.array(regime).flatten()\n",
    "    ur = np.unique(reg)\n",
    "    P = np.zeros((len(ur),n))\n",
    "    for r, p in enumerate(reg):\n",
    "        P[p,r] = 1\n",
    "    \n",
    "    def _calc(x0,y0,P):\n",
    "        d0 = x0[np.newaxis,:] - x0[:,np.newaxis]\n",
    "        d1 = y0[np.newaxis,:] - y0[:,np.newaxis]\n",
    "        S = d0 * d1\n",
    "        S = 1 * (S>0)  + -1 * (S <0)\n",
    "        WS = W*S\n",
    "        WHS = WH*S\n",
    "        PWSPt = np.dot(P,np.dot(WS,P.T))\n",
    "        PWHSPt = np.dot(P,np.dot(WHS,P.T))\n",
    "        D = np.dot(P,np.dot(W,P.T)) + np.dot(P,np.dot(WH,P.T))\n",
    "        IR = np.dot(P,np.dot(S,P.T))\n",
    "        IRD = IR/D\n",
    "        return IRD\n",
    "    original = _calc(x,y,P)\n",
    "    if permutations:\n",
    "        k = len(ur)\n",
    "        larger = np.zeros((k,k))\n",
    "        rids = np.arange(len(x))\n",
    "        for permutation in xrange(permutations):\n",
    "            np.random.shuffle(rids)\n",
    "            res = _calc(x[rids],y[rids],P)\n",
    "            larger += np.greater_equal(res, original)\n",
    "        m = np.less(permutations - larger, larger)\n",
    "        pvalues = (1 + m * (permutations-larger) + (1-m) * larger) / (1. + permutations)\n",
    "    return original, pvalues, larger, m\n",
    "    "
   ]
  },
  {
   "cell_type": "code",
   "execution_count": 92,
   "metadata": {
    "collapsed": false
   },
   "outputs": [
    {
     "name": "stderr",
     "output_type": "stream",
     "text": [
      "/opt/conda/envs/python2/lib/python2.7/site-packages/ipykernel/__main__.py:9: DeprecationWarning: using a non-integer number instead of an integer will result in an error in the future\n"
     ]
    },
    {
     "data": {
      "text/plain": [
       "array([ 2.,  4.,  5.,  3.,  6.,  4.,  4.,  5.,  0.,  2.,  2.,  6.,  1.,\n",
       "        5.,  0.,  6.,  1.,  5.,  4.,  6.,  1.,  2.,  3.,  2.,  5.,  4.,\n",
       "        3.,  4.,  1.,  3.,  3.,  2.])"
      ]
     },
     "execution_count": 92,
     "metadata": {},
     "output_type": "execute_result"
    }
   ],
   "source": [
    "np.set_printoptions(precision=4)\n",
    "np.random.seed(12345)\n",
    "r = tauR(x,y, regime)\n",
    "regime"
   ]
  },
  {
   "cell_type": "code",
   "execution_count": 93,
   "metadata": {
    "collapsed": false
   },
   "outputs": [
    {
     "data": {
      "text/plain": [
       "(array([[ 1.    ,  0.75  ,  1.    ,  0.8   ,  1.    ,  1.    ,  0.75  ],\n",
       "        [ 0.75  ,  0.3333,  0.25  ,  0.7   ,  0.8333,  0.9   ,  0.625 ],\n",
       "        [ 1.    ,  0.25  ,  0.0667,  0.6   ,  0.2222,  0.0667,  1.    ],\n",
       "        [ 0.8   ,  0.7   ,  0.6   ,  0.8   ,  0.6667,  0.84  ,  0.8   ],\n",
       "        [ 1.    ,  0.8333,  0.2222,  0.6667,  0.6   ,  0.9333,  1.    ],\n",
       "        [ 1.    ,  0.9   ,  0.0667,  0.84  ,  0.9333,  0.2   ,  1.    ],\n",
       "        [ 0.75  ,  0.625 ,  1.    ,  0.8   ,  1.    ,  1.    ,  0.3333]]),\n",
       " array([[ 0.23,  0.46,  0.14,  0.46,  0.17,  0.23,  0.39],\n",
       "        [ 0.46,  0.1 ,  0.04,  0.48,  0.32,  0.23,  0.26],\n",
       "        [ 0.14,  0.04,  0.03,  0.26,  0.02,  0.01,  0.03],\n",
       "        [ 0.46,  0.48,  0.26,  0.42,  0.37,  0.24,  0.42],\n",
       "        [ 0.17,  0.32,  0.02,  0.37,  0.3 ,  0.01,  0.01],\n",
       "        [ 0.23,  0.23,  0.01,  0.24,  0.01,  0.05,  0.04],\n",
       "        [ 0.39,  0.26,  0.03,  0.42,  0.01,  0.04,  0.09]]),\n",
       " array([[ 77.,  54.,  13.,  45.,  16.,  22.,  61.],\n",
       "        [ 54.,  90.,  96.,  52.,  31.,  22.,  74.],\n",
       "        [ 13.,  96.,  97.,  74.,  98.,  99.,   2.],\n",
       "        [ 45.,  52.,  74.,  58.,  63.,  23.,  41.],\n",
       "        [ 16.,  31.,  98.,  63.,  70.,   0.,   0.],\n",
       "        [ 22.,  22.,  99.,  23.,   0.,  95.,   3.],\n",
       "        [ 61.,  74.,   2.,  41.,   0.,   3.,  91.]]),\n",
       " array([[ True,  True, False, False, False, False,  True],\n",
       "        [ True,  True,  True,  True, False, False,  True],\n",
       "        [False,  True,  True,  True,  True,  True, False],\n",
       "        [False,  True,  True,  True,  True, False, False],\n",
       "        [False, False,  True,  True,  True, False, False],\n",
       "        [False, False,  True, False, False,  True, False],\n",
       "        [ True,  True, False, False, False, False,  True]], dtype=bool))"
      ]
     },
     "execution_count": 93,
     "metadata": {},
     "output_type": "execute_result"
    }
   ],
   "source": [
    "r"
   ]
  },
  {
   "cell_type": "code",
   "execution_count": 94,
   "metadata": {
    "collapsed": false
   },
   "outputs": [
    {
     "name": "stderr",
     "output_type": "stream",
     "text": [
      "/opt/conda/envs/python2/lib/python2.7/site-packages/ipykernel/__main__.py:9: DeprecationWarning: using a non-integer number instead of an integer will result in an error in the future\n"
     ]
    },
    {
     "data": {
      "text/plain": [
       "array([ 2.,  4.,  5.,  3.,  6.,  4.,  4.,  5.,  0.,  2.,  2.,  6.,  1.,\n",
       "        5.,  0.,  6.,  1.,  5.,  4.,  6.,  1.,  2.,  3.,  2.,  5.,  4.,\n",
       "        3.,  4.,  1.,  3.,  3.,  2.])"
      ]
     },
     "execution_count": 94,
     "metadata": {},
     "output_type": "execute_result"
    }
   ],
   "source": [
    "np.random.seed(123456)\n",
    "np.set_printoptions(precision=3)\n",
    "r = tauR(income[:,0],income[:,-1], regime)\n",
    "regime"
   ]
  },
  {
   "cell_type": "code",
   "execution_count": 95,
   "metadata": {
    "collapsed": false
   },
   "outputs": [
    {
     "data": {
      "text/plain": [
       "(array([[ 1.   ,  0.25 ,  0.5  ,  0.6  ,  0.833,  0.6  ,  1.   ],\n",
       "        [ 0.25 ,  0.333,  0.5  ,  0.3  ,  0.917,  0.4  ,  0.75 ],\n",
       "        [ 0.5  ,  0.5  ,  0.6  ,  0.4  ,  0.389,  0.533,  0.833],\n",
       "        [ 0.6  ,  0.3  ,  0.4  ,  0.2  ,  0.4  ,  0.28 ,  0.8  ],\n",
       "        [ 0.833,  0.917,  0.389,  0.4  ,  0.6  ,  0.733,  1.   ],\n",
       "        [ 0.6  ,  0.4  ,  0.533,  0.28 ,  0.733,  0.8  ,  0.8  ],\n",
       "        [ 1.   ,  0.75 ,  0.833,  0.8  ,  1.   ,  0.8  ,  0.333]]),\n",
       " array([[ 0.25,  0.1 ,  0.22,  0.43,  0.2 ,  0.42,  0.15],\n",
       "        [ 0.1 ,  0.07,  0.25,  0.04,  0.02,  0.14,  0.36],\n",
       "        [ 0.22,  0.25,  0.38,  0.12,  0.05,  0.3 ,  0.16],\n",
       "        [ 0.43,  0.04,  0.12,  0.04,  0.08,  0.07,  0.31],\n",
       "        [ 0.2 ,  0.02,  0.05,  0.08,  0.42,  0.21,  0.03],\n",
       "        [ 0.42,  0.14,  0.3 ,  0.07,  0.21,  0.39,  0.26],\n",
       "        [ 0.15,  0.36,  0.16,  0.31,  0.03,  0.26,  0.13]]),\n",
       " array([[ 75.,  90.,  78.,  57.,  19.,  58.,  14.],\n",
       "        [ 90.,  93.,  75.,  96.,   1.,  86.,  35.],\n",
       "        [ 78.,  75.,  62.,  88.,  95.,  70.,  15.],\n",
       "        [ 57.,  96.,  88.,  96.,  92.,  93.,  30.],\n",
       "        [ 19.,   1.,  95.,  92.,  58.,  20.,   2.],\n",
       "        [ 58.,  86.,  70.,  93.,  20.,  38.,  25.],\n",
       "        [ 14.,  35.,  15.,  30.,   2.,  25.,  87.]]),\n",
       " array([[ True,  True,  True,  True, False,  True, False],\n",
       "        [ True,  True,  True,  True, False,  True, False],\n",
       "        [ True,  True,  True,  True,  True,  True, False],\n",
       "        [ True,  True,  True,  True,  True,  True, False],\n",
       "        [False, False,  True,  True,  True, False, False],\n",
       "        [ True,  True,  True,  True, False, False, False],\n",
       "        [False, False, False, False, False, False,  True]], dtype=bool))"
      ]
     },
     "execution_count": 95,
     "metadata": {},
     "output_type": "execute_result"
    }
   ],
   "source": [
    "r"
   ]
  },
  {
   "cell_type": "code",
   "execution_count": 96,
   "metadata": {
    "collapsed": false
   },
   "outputs": [
    {
     "data": {
      "text/plain": [
       "array(['Aguascalientes', 'Baja California', 'Baja California Sur',\n",
       "       'Campeche', 'Chiapas', 'Chihuahua', 'Coahuila', 'Colima',\n",
       "       'Distrito Federal', 'Durango', 'Guanajuato', 'Guerrero', 'Hidalgo',\n",
       "       'Jalisco', 'Mexico', 'Michoacan', 'Morelos', 'Nayarit',\n",
       "       'Nuevo Leon', 'Oaxaca', 'Puebla', 'Quertaro', 'Quintana Roo',\n",
       "       'San Luis Potosi', 'Sinaloa', 'Sonora', 'Tabasco', 'Tamaulipas',\n",
       "       'Tlaxcala', 'Veracruz', 'Yucatan', 'Zacatecas'], \n",
       "      dtype='|S19')"
      ]
     },
     "execution_count": 96,
     "metadata": {},
     "output_type": "execute_result"
    }
   ],
   "source": [
    "state"
   ]
  },
  {
   "cell_type": "code",
   "execution_count": 97,
   "metadata": {
    "collapsed": false
   },
   "outputs": [
    {
     "name": "stdout",
     "output_type": "stream",
     "text": [
      "0.0\n",
      "['Distrito Federal' 'Mexico']\n",
      "1.0\n",
      "['Hidalgo' 'Morelos' 'Puebla' 'Tlaxcala']\n",
      "2.0\n",
      "['Aguascalientes' 'Durango' 'Guanajuato' 'Quertaro' 'San Luis Potosi'\n",
      " 'Zacatecas']\n",
      "3.0\n",
      "['Campeche' 'Quintana Roo' 'Tabasco' 'Veracruz' 'Yucatan']\n",
      "4.0\n",
      "['Baja California' 'Chihuahua' 'Coahuila' 'Nuevo Leon' 'Sonora'\n",
      " 'Tamaulipas']\n",
      "5.0\n",
      "['Baja California Sur' 'Colima' 'Jalisco' 'Nayarit' 'Sinaloa']\n",
      "6.0\n",
      "['Chiapas' 'Guerrero' 'Michoacan' 'Oaxaca']\n"
     ]
    }
   ],
   "source": [
    "for reg in np.unique(regime):\n",
    "    print reg\n",
    "    print state[regime==reg]"
   ]
  },
  {
   "cell_type": "code",
   "execution_count": 98,
   "metadata": {
    "collapsed": true
   },
   "outputs": [],
   "source": [
    "region_names = [\"Capital\", \"Center\", \"Center-N\", \"Gulf\", \"North\", \"Pacific\", \"South\"]"
   ]
  },
  {
   "cell_type": "code",
   "execution_count": 99,
   "metadata": {
    "collapsed": false
   },
   "outputs": [],
   "source": [
    "rt,rp, larger, m = r"
   ]
  },
  {
   "cell_type": "code",
   "execution_count": 100,
   "metadata": {
    "collapsed": false
   },
   "outputs": [
    {
     "data": {
      "text/plain": [
       "array([[ 1.   ,  0.25 ,  0.5  ,  0.6  ,  0.833,  0.6  ,  1.   ],\n",
       "       [ 0.25 ,  0.333,  0.5  ,  0.3  ,  0.917,  0.4  ,  0.75 ],\n",
       "       [ 0.5  ,  0.5  ,  0.6  ,  0.4  ,  0.389,  0.533,  0.833],\n",
       "       [ 0.6  ,  0.3  ,  0.4  ,  0.2  ,  0.4  ,  0.28 ,  0.8  ],\n",
       "       [ 0.833,  0.917,  0.389,  0.4  ,  0.6  ,  0.733,  1.   ],\n",
       "       [ 0.6  ,  0.4  ,  0.533,  0.28 ,  0.733,  0.8  ,  0.8  ],\n",
       "       [ 1.   ,  0.75 ,  0.833,  0.8  ,  1.   ,  0.8  ,  0.333]])"
      ]
     },
     "execution_count": 100,
     "metadata": {},
     "output_type": "execute_result"
    }
   ],
   "source": [
    "rt"
   ]
  },
  {
   "cell_type": "code",
   "execution_count": 101,
   "metadata": {
    "collapsed": false
   },
   "outputs": [
    {
     "data": {
      "text/plain": [
       "array([[ 0.25,  0.1 ,  0.22,  0.43,  0.2 ,  0.42,  0.15],\n",
       "       [ 0.1 ,  0.07,  0.25,  0.04,  0.02,  0.14,  0.36],\n",
       "       [ 0.22,  0.25,  0.38,  0.12,  0.05,  0.3 ,  0.16],\n",
       "       [ 0.43,  0.04,  0.12,  0.04,  0.08,  0.07,  0.31],\n",
       "       [ 0.2 ,  0.02,  0.05,  0.08,  0.42,  0.21,  0.03],\n",
       "       [ 0.42,  0.14,  0.3 ,  0.07,  0.21,  0.39,  0.26],\n",
       "       [ 0.15,  0.36,  0.16,  0.31,  0.03,  0.26,  0.13]])"
      ]
     },
     "execution_count": 101,
     "metadata": {},
     "output_type": "execute_result"
    }
   ],
   "source": [
    "rp"
   ]
  },
  {
   "cell_type": "code",
   "execution_count": 102,
   "metadata": {
    "collapsed": false
   },
   "outputs": [
    {
     "data": {
      "text/plain": [
       "array([[ 75.,  90.,  78.,  57.,  19.,  58.,  14.],\n",
       "       [ 90.,  93.,  75.,  96.,   1.,  86.,  35.],\n",
       "       [ 78.,  75.,  62.,  88.,  95.,  70.,  15.],\n",
       "       [ 57.,  96.,  88.,  96.,  92.,  93.,  30.],\n",
       "       [ 19.,   1.,  95.,  92.,  58.,  20.,   2.],\n",
       "       [ 58.,  86.,  70.,  93.,  20.,  38.,  25.],\n",
       "       [ 14.,  35.,  15.,  30.,   2.,  25.,  87.]])"
      ]
     },
     "execution_count": 102,
     "metadata": {},
     "output_type": "execute_result"
    }
   ],
   "source": [
    "larger"
   ]
  },
  {
   "cell_type": "code",
   "execution_count": 103,
   "metadata": {
    "collapsed": false
   },
   "outputs": [
    {
     "data": {
      "text/plain": [
       "array([[-0.   ,  0.375,  0.25 ,  0.2  ,  0.083,  0.2  , -0.   ],\n",
       "       [ 0.375,  0.333,  0.25 ,  0.35 ,  0.042,  0.3  ,  0.125],\n",
       "       [ 0.25 ,  0.25 ,  0.2  ,  0.3  ,  0.306,  0.233,  0.083],\n",
       "       [ 0.2  ,  0.35 ,  0.3  ,  0.4  ,  0.3  ,  0.36 ,  0.1  ],\n",
       "       [ 0.083,  0.042,  0.306,  0.3  ,  0.2  ,  0.133, -0.   ],\n",
       "       [ 0.2  ,  0.3  ,  0.233,  0.36 ,  0.133,  0.1  ,  0.1  ],\n",
       "       [-0.   ,  0.125,  0.083,  0.1  , -0.   ,  0.1  ,  0.333]])"
      ]
     },
     "execution_count": 103,
     "metadata": {},
     "output_type": "execute_result"
    }
   ],
   "source": [
    "mob = (rt-1)/2. * -1\n",
    "mob"
   ]
  },
  {
   "cell_type": "code",
   "execution_count": 104,
   "metadata": {
    "collapsed": false
   },
   "outputs": [
    {
     "name": "stdout",
     "output_type": "stream",
     "text": [
      "\\begin{tabular}{|lrrrrrrr|}\n",
      "\\hline\n",
      "&Capital&Center&Center-N&Gulf&North&Pacific&South\\\\\n",
      "\\hline\n",
      "Capital&    1.00&    0.25&    0.50&    0.60&    0.83&    0.60&    1.00\\\\\n",
      "Center&    0.25&    0.33&    0.50&\\textbf{    0.30}&\\textbf{    0.92}&    0.40&    0.75\\\\\n",
      "Center-N&    0.50&    0.50&    0.60&    0.40&\\textbf{    0.39}&    0.53&    0.83\\\\\n",
      "Gulf&    0.60&\\textbf{    0.30}&    0.40&\\textbf{    0.20}&    0.40&    0.28&    0.80\\\\\n",
      "North&    0.83&\\textbf{    0.92}&\\textbf{    0.39}&    0.40&    0.60&    0.73&\\textbf{    1.00}\\\\\n",
      "Pacific&    0.60&    0.40&    0.53&    0.28&    0.73&    0.80&    0.80\\\\\n",
      "South&    1.00&    0.75&    0.83&    0.80&\\textbf{    1.00}&    0.80&    0.33\\\\\n",
      "\\hline\n",
      "\\end{tabular}\n"
     ]
    }
   ],
   "source": [
    "\n",
    "body = []\n",
    "for i, row in enumerate(rt):\n",
    "    rowi = [region_names[i]]\n",
    "    for j, rij in enumerate(row):\n",
    "        #print i,j, rij, rp[i,j]\n",
    "        sig = 0\n",
    "        if rp[i,j] <= 0.05:\n",
    "            v = \"\\\\textbf{%8.2f}\"%rij\n",
    "            sig = 1\n",
    "        else:\n",
    "            v = \"%8.2f\"%rij\n",
    "       \n",
    "                \n",
    "            \n",
    "        rowi.append(v)\n",
    "        #print rowi\n",
    "        \n",
    "    body.append(\"&\".join(rowi))\n",
    "header = \"&\"+\"&\".join(region_names)\n",
    "\n",
    "\n",
    "main = \"\\\\\\\\\\n\".join(body)\n",
    "header = \"\\\\begin{tabular}{|lrrrrrrr|}\\n\\\\hline\\n\"\n",
    "header += \"&\" + \"&\".join([name for name in region_names])\n",
    "header += \"\\\\\\\\\\n\\hline\\n\"\n",
    "\n",
    "table = header+main\n",
    "table += \"\\\\\\\\\\n\\hline\\n\"\n",
    "table += \"\\\\end{tabular}\"\n",
    "print table"
   ]
  },
  {
   "cell_type": "code",
   "execution_count": 105,
   "metadata": {
    "collapsed": true
   },
   "outputs": [],
   "source": [
    "with open(\"inter.tex\", 'w') as outfile:\n",
    "    outfile.write(table)"
   ]
  },
  {
   "cell_type": "code",
   "execution_count": null,
   "metadata": {
    "collapsed": true
   },
   "outputs": [],
   "source": []
  }
 ],
 "metadata": {
  "kernelspec": {
   "display_name": "Python 2",
   "language": "python",
   "name": "python2"
  },
  "language_info": {
   "codemirror_mode": {
    "name": "ipython",
    "version": 2
   },
   "file_extension": ".py",
   "mimetype": "text/x-python",
   "name": "python",
   "nbconvert_exporter": "python",
   "pygments_lexer": "ipython2",
   "version": "2.7.11"
  }
 },
 "nbformat": 4,
 "nbformat_minor": 0
}
